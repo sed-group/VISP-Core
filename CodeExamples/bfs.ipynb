{
 "cells": [
  {
   "cell_type": "code",
   "execution_count": 5,
   "source": [
    "class Graph:\r\n",
    "\r\n",
    "    adj = []\r\n",
    "\r\n",
    "    # Function to fill empty adjacency matrix\r\n",
    "    def __init__(self, v, e):\r\n",
    "\r\n",
    "        self.v = v\r\n",
    "        self.e = e\r\n",
    "        Graph.adj = [[0 for i in range(v)]\r\n",
    "                        for j in range(v)]\r\n",
    "\r\n",
    "    # Function to add an edge to the graph\r\n",
    "    def addEdge(self, start, e):\r\n",
    "\r\n",
    "        # Considering a bidirectional edge\r\n",
    "        Graph.adj[start][e] = 1\r\n",
    "        Graph.adj[e][start] = 1\r\n",
    "\r\n",
    "    # Function to perform DFS on the graph\r\n",
    "    def BFS(self, start):\r\n",
    "\r\n",
    "        # Visited vector to so that a\r\n",
    "        # vertex is not visited more than\r\n",
    "        # once Initializing the vector to\r\n",
    "        # false as no vertex is visited at\r\n",
    "        # the beginning\r\n",
    "        visited = [False] * self.v\r\n",
    "        q = [start]\r\n",
    "\r\n",
    "        # Set source as visited\r\n",
    "        visited[start] = True\r\n",
    "\r\n",
    "        while q:\r\n",
    "            vis = q[0]\r\n",
    "\r\n",
    "            # Print current node\r\n",
    "            print(vis, end = ' ')\r\n",
    "            q.pop(0)\r\n",
    "\r\n",
    "            # For every adjacent vertex to\r\n",
    "            # the current vertex\r\n",
    "            for i in range(self.v):\r\n",
    "                if (Graph.adj[vis][i] == 1 and\r\n",
    "                    (not visited[i])):\r\n",
    "\r\n",
    "                    # Push the adjacent node\r\n",
    "                    # in the queue\r\n",
    "                    q.append(i)\r\n",
    "\r\n",
    "                    # set\r\n",
    "                    visited[i] = True\r\n",
    "\r\n",
    "# Driver code\r\n",
    "v, e = 5, 4\r\n",
    "\r\n",
    "# Create the graph\r\n",
    "G = Graph(v, e)\r\n",
    "G.addEdge(0, 1)\r\n",
    "G.addEdge(0, 2)\r\n",
    "G.addEdge(1, 3)\r\n",
    "\r\n",
    "# Perform BFS\r\n",
    "G.BFS(0)"
   ],
   "outputs": [
    {
     "output_type": "stream",
     "name": "stdout",
     "text": [
      "0 1 2 3 "
     ]
    }
   ],
   "metadata": {}
  },
  {
   "cell_type": "code",
   "execution_count": 7,
   "source": [
    "def bfs(matrix, row, col, visited):\r\n",
    "    nodes = [(row, col)]\r\n",
    "    while nodes:\r\n",
    "        row, col = nodes.pop(0)\r\n",
    "        # the below conditional ensures that our algorithm \r\n",
    "        #stays within the bounds of our matrix.\r\n",
    "        if row >= len(matrix) or col >= len(matrix[0]) or row < 0 or col < 0:\r\n",
    "            continue\r\n",
    "        if (row, col) not in visited:\r\n",
    "            if matrix[row][col] == 1:\r\n",
    "                visited.append((row, col))\r\n",
    "                nodes.append((row+1, col))\r\n",
    "                nodes.append((row, col+1))\r\n",
    "                nodes.append((row-1, col))\r\n",
    "                nodes.append((row, col-1))\r\n",
    "\r\n",
    "def bfs_wrapper(matrix):\r\n",
    "    visited = []\r\n",
    "    for i in range(len(matrix)):\r\n",
    "        #print(f\"Current row: {i}\")\r\n",
    "        for j in range(len(matrix[0])):\r\n",
    "            #print(f\"  Current column: {j}\")\r\n",
    "            if (i,j) not in visited:\r\n",
    "                print(f\"Element ({i}, {j}) was not visited before\")\r\n",
    "                bfs(matrix, i, j, visited)\r\n",
    "            else:\r\n",
    "                print(f\"Element ({i}, {j}) was visited before\")\r\n",
    "            \r\n",
    "    return visited"
   ],
   "outputs": [],
   "metadata": {}
  },
  {
   "cell_type": "code",
   "execution_count": 8,
   "source": [
    "bfs_wrapper(A)"
   ],
   "outputs": [
    {
     "output_type": "stream",
     "name": "stdout",
     "text": [
      "Element (0, 0) was not visited before\n",
      "Element (0, 1) was not visited before\n",
      "Element (0, 2) was not visited before\n",
      "Element (0, 3) was not visited before\n",
      "Element (1, 0) was not visited before\n",
      "Element (1, 1) was not visited before\n",
      "Element (1, 2) was not visited before\n",
      "Element (1, 3) was not visited before\n",
      "Element (2, 0) was not visited before\n",
      "Element (2, 1) was visited before\n",
      "Element (2, 2) was not visited before\n",
      "Element (2, 3) was visited before\n",
      "Element (3, 0) was visited before\n",
      "Element (3, 1) was visited before\n",
      "Element (3, 2) was not visited before\n",
      "Element (3, 3) was not visited before\n"
     ]
    },
    {
     "output_type": "execute_result",
     "data": {
      "text/plain": [
       "[(0, 1), (1, 3), (2, 3), (2, 0), (3, 0), (2, 1), (3, 1)]"
      ]
     },
     "metadata": {},
     "execution_count": 8
    }
   ],
   "metadata": {}
  },
  {
   "cell_type": "code",
   "execution_count": null,
   "source": [],
   "outputs": [],
   "metadata": {}
  }
 ],
 "metadata": {
  "orig_nbformat": 4,
  "language_info": {
   "name": "python",
   "version": "3.9.6",
   "mimetype": "text/x-python",
   "codemirror_mode": {
    "name": "ipython",
    "version": 3
   },
   "pygments_lexer": "ipython3",
   "nbconvert_exporter": "python",
   "file_extension": ".py"
  },
  "kernelspec": {
   "name": "python3",
   "display_name": "Python 3.9.6 64-bit"
  },
  "interpreter": {
   "hash": "ac59ebe37160ed0dfa835113d9b8498d9f09ceb179beaac4002f036b9467c963"
  }
 },
 "nbformat": 4,
 "nbformat_minor": 2
}
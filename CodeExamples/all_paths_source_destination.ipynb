{
 "cells": [
  {
   "cell_type": "markdown",
   "source": [
    "# Python program to print all paths from a source to destination"
   ],
   "metadata": {}
  },
  {
   "cell_type": "markdown",
   "source": [
    "## Imports"
   ],
   "metadata": {}
  },
  {
   "cell_type": "code",
   "execution_count": 1,
   "source": [
    "from collections import defaultdict"
   ],
   "outputs": [],
   "metadata": {}
  },
  {
   "cell_type": "markdown",
   "source": [
    "## Graph class\r\n",
    "\r\n",
    "This class represents a directed graph using adjacency list representation"
   ],
   "metadata": {}
  },
  {
   "cell_type": "code",
   "execution_count": 2,
   "source": [
    "class Graph:\r\n",
    "\r\n",
    "    def __init__(self, vertices):\r\n",
    "        # No. of vertices\r\n",
    "        self.V = vertices\r\n",
    "\r\n",
    "        # default dictionary to store graph\r\n",
    "        self.graph = defaultdict(list)\r\n",
    "\r\n",
    "    # function to add an edge to graph\r\n",
    "    def addEdge(self, u, v):\r\n",
    "        self.graph[u].append(v)\r\n",
    "\r\n",
    "    '''A recursive function to print all paths from 'u' to 'd'.\r\n",
    "    visited[] keeps track of vertices in current path.\r\n",
    "    path[] stores actual vertices and path_index is current\r\n",
    "    index in path[]'''\r\n",
    "    def printAllPathsUtil(self, u, d, visited, path):\r\n",
    "\r\n",
    "        # Mark the current node as visited and store in path\r\n",
    "        visited[u]= True\r\n",
    "        path.append(u)\r\n",
    "\r\n",
    "        # If current vertex is same as destination, then print\r\n",
    "        # current path[]\r\n",
    "        if u == d:\r\n",
    "            print(path)\r\n",
    "        else:\r\n",
    "            # If current vertex is not destination\r\n",
    "            # Recur for all the vertices adjacent to this vertex\r\n",
    "            for i in self.graph[u]:\r\n",
    "                if visited[i]== False:\r\n",
    "                    self.printAllPathsUtil(i, d, visited, path)\r\n",
    "\r\n",
    "        # Remove current vertex from path[] and mark it as unvisited\r\n",
    "        path.pop()\r\n",
    "        visited[u]= False\r\n",
    "\r\n",
    "\r\n",
    "    # Prints all paths from 's' to 'd'\r\n",
    "    def printAllPaths(self, s, d):\r\n",
    "\r\n",
    "        # Mark all the vertices as not visited\r\n",
    "        visited =[False]*(self.V)\r\n",
    "\r\n",
    "        # Create an array to store paths\r\n",
    "        path = []\r\n",
    "\r\n",
    "        # Call the recursive helper function to print all paths\r\n",
    "        self.printAllPathsUtil(s, d, visited, path)"
   ],
   "outputs": [],
   "metadata": {}
  },
  {
   "cell_type": "markdown",
   "source": [
    "## Create a graph"
   ],
   "metadata": {}
  },
  {
   "cell_type": "code",
   "execution_count": 3,
   "source": [
    "g = Graph(4)\r\n",
    "g.addEdge(0, 1)\r\n",
    "g.addEdge(0, 2)\r\n",
    "g.addEdge(0, 3)\r\n",
    "g.addEdge(2, 0)\r\n",
    "g.addEdge(2, 1)\r\n",
    "g.addEdge(1, 3)"
   ],
   "outputs": [],
   "metadata": {}
  },
  {
   "cell_type": "markdown",
   "source": [
    "## Run search from s to d"
   ],
   "metadata": {}
  },
  {
   "cell_type": "code",
   "execution_count": 4,
   "source": [
    "s = 0 ; d = 1\r\n",
    "print (\"Following are all different paths from % d to % d :\" %(s, d))\r\n",
    "g.printAllPaths(s, d)"
   ],
   "outputs": [
    {
     "output_type": "stream",
     "name": "stdout",
     "text": [
      "Following are all different paths from  0 to  1 :\n",
      "[0, 1]\n",
      "[0, 2, 1]\n"
     ]
    }
   ],
   "metadata": {}
  },
  {
   "cell_type": "code",
   "execution_count": null,
   "source": [],
   "outputs": [],
   "metadata": {}
  }
 ],
 "metadata": {
  "orig_nbformat": 4,
  "language_info": {
   "name": "python",
   "version": "3.9.6",
   "mimetype": "text/x-python",
   "codemirror_mode": {
    "name": "ipython",
    "version": 3
   },
   "pygments_lexer": "ipython3",
   "nbconvert_exporter": "python",
   "file_extension": ".py"
  },
  "kernelspec": {
   "name": "python3",
   "display_name": "Python 3.9.6 64-bit"
  },
  "interpreter": {
   "hash": "ac59ebe37160ed0dfa835113d9b8498d9f09ceb179beaac4002f036b9467c963"
  }
 },
 "nbformat": 4,
 "nbformat_minor": 2
}
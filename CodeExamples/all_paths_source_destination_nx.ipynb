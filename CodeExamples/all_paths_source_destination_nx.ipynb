{
 "cells": [
  {
   "cell_type": "code",
   "execution_count": 1,
   "source": [
    "import networkx as nx\r\n",
    "import matplotlib.pyplot as plt\r\n",
    "import random\r\n",
    "import uuid"
   ],
   "outputs": [],
   "metadata": {}
  },
  {
   "cell_type": "code",
   "execution_count": 2,
   "source": [
    "def hierarchy_pos(G, root=None, width=1., vert_gap = 0.2, vert_loc = 0, xcenter = 0.5):\r\n",
    "\r\n",
    "    '''\r\n",
    "    From Joel's answer at https://stackoverflow.com/a/29597209/2966723.  \r\n",
    "    Licensed under Creative Commons Attribution-Share Alike \r\n",
    "    \r\n",
    "    If the graph is a tree this will return the positions to plot this in a \r\n",
    "    hierarchical layout.\r\n",
    "    \r\n",
    "    G: the graph (must be a tree)\r\n",
    "    \r\n",
    "    root: the root node of current branch \r\n",
    "    - if the tree is directed and this is not given, \r\n",
    "        the root will be found and used\r\n",
    "    - if the tree is directed and this is given, then \r\n",
    "        the positions will be just for the descendants of this node.\r\n",
    "    - if the tree is undirected and not given, \r\n",
    "        then a random choice will be used.\r\n",
    "    \r\n",
    "    width: horizontal space allocated for this branch - avoids overlap with other branches\r\n",
    "    \r\n",
    "    vert_gap: gap between levels of hierarchy\r\n",
    "    \r\n",
    "    vert_loc: vertical location of root\r\n",
    "    \r\n",
    "    xcenter: horizontal location of root\r\n",
    "    '''\r\n",
    "    if not nx.is_tree(G):\r\n",
    "        raise TypeError('cannot use hierarchy_pos on a graph that is not a tree')\r\n",
    "\r\n",
    "    if root is None:\r\n",
    "        if isinstance(G, nx.DiGraph):\r\n",
    "            root = next(iter(nx.topological_sort(G)))  #allows back compatibility with nx version 1.11\r\n",
    "        else:\r\n",
    "            root = random.choice(list(G.nodes))\r\n",
    "\r\n",
    "    def _hierarchy_pos(G, root, width=1., vert_gap = 0.2, vert_loc = 0, xcenter = 0.5, pos = None, parent = None):\r\n",
    "        '''\r\n",
    "        see hierarchy_pos docstring for most arguments\r\n",
    "\r\n",
    "        pos: a dict saying where all nodes go if they have been assigned\r\n",
    "        parent: parent of this branch. - only affects it if non-directed\r\n",
    "\r\n",
    "        '''\r\n",
    "    \r\n",
    "        if pos is None:\r\n",
    "            pos = {root:(xcenter,vert_loc)}\r\n",
    "        else:\r\n",
    "            pos[root] = (xcenter, vert_loc)\r\n",
    "        children = list(G.neighbors(root))\r\n",
    "        if not isinstance(G, nx.DiGraph) and parent is not None:\r\n",
    "            children.remove(parent)  \r\n",
    "        if len(children)!=0:\r\n",
    "            dx = width/len(children) \r\n",
    "            nextx = xcenter - width/2 - dx/2\r\n",
    "            for child in children:\r\n",
    "                nextx += dx\r\n",
    "                pos = _hierarchy_pos(G,child, width = dx, vert_gap = vert_gap, \r\n",
    "                                    vert_loc = vert_loc-vert_gap, xcenter=nextx,\r\n",
    "                                    pos=pos, parent = root)\r\n",
    "        return pos\r\n",
    "\r\n",
    "            \r\n",
    "    return _hierarchy_pos(G, root, width, vert_gap, vert_loc, xcenter)"
   ],
   "outputs": [],
   "metadata": {}
  },
  {
   "cell_type": "code",
   "execution_count": 21,
   "source": [
    "g=nx.watts_strogatz_graph(n=6, k=2, p=0.6)\r\n",
    "plt.figure(figsize=(4,4))\r\n",
    "nx.draw_circular(g, with_labels = True)"
   ],
   "outputs": [
    {
     "output_type": "display_data",
     "data": {
      "image/png": "[encoded data removed]",
      "text/plain": [
       "<Figure size 288x288 with 1 Axes>"
      ]
     },
     "metadata": {}
    }
   ],
   "metadata": {}
  },
  {
   "cell_type": "code",
   "execution_count": 22,
   "source": [
    "s = 0 ; d = 1\r\n",
    "\r\n",
    "paths = nx.all_simple_paths(g, s, d)\r\n",
    "\r\n",
    "list_paths = list(paths)\r\n",
    "\r\n",
    "for path_index, path in enumerate(nx.all_simple_paths(g, s, d)):\r\n",
    "    print(f\"{path_index} {path}\")"
   ],
   "outputs": [
    {
     "output_type": "stream",
     "name": "stdout",
     "text": [
      "0 [0, 1]\n",
      "1 [0, 5, 3, 1]\n"
     ]
    }
   ],
   "metadata": {}
  },
  {
   "cell_type": "code",
   "execution_count": 23,
   "source": [
    "list_paths_levels = [[f'{j}_level{lev}' for lev,j in enumerate(i, 1)] for i in list_paths]\r\n",
    "\r\n",
    "for path in list_paths_levels:\r\n",
    "    print(path)"
   ],
   "outputs": [
    {
     "output_type": "stream",
     "name": "stdout",
     "text": [
      "['0_level1', '1_level2']\n",
      "['0_level1', '5_level2', '3_level3', '1_level4']\n"
     ]
    }
   ],
   "metadata": {}
  },
  {
   "cell_type": "code",
   "execution_count": 26,
   "source": [
    "H = nx.DiGraph()\r\n",
    "for path in list_paths_levels:\r\n",
    "    nx.add_path(H, path)\r\n",
    "\r\n",
    "pos = hierarchy_pos(H)    \r\n",
    "nx.draw(H, \r\n",
    "        pos=pos, \r\n",
    "        node_color='lightgreen', \r\n",
    "        node_size=1500,\r\n",
    "        with_labels=True, \r\n",
    "        arrows=True)\r\n",
    "#plt.savefig('hierarchy.png')"
   ],
   "outputs": [
    {
     "output_type": "display_data",
     "data": {
      "image/png": "[encoded data removed]",
      "text/plain": [
       "<Figure size 432x288 with 1 Axes>"
      ]
     },
     "metadata": {}
    }
   ],
   "metadata": {}
  },
  {
   "cell_type": "code",
   "execution_count": null,
   "source": [],
   "outputs": [],
   "metadata": {}
  },
  {
   "cell_type": "code",
   "execution_count": 17,
   "source": [
    "G = nx.DiGraph()\r\n",
    "\r\n",
    "for path_index, path in enumerate(paths):\r\n",
    "    print(f\"{path_index} {path}\")\r\n",
    "    node_id = uuid.uuid4()\r\n",
    "    G.add_node(node_id, name='hej')\r\n",
    "    G.add_edge(node_id, 2)\r\n",
    "\r\n",
    "print(f\"Nodes: {G.number_of_nodes()}, Edges: {G.number_of_edges()}\")\r\n",
    "print(G.nodes.data())"
   ],
   "outputs": [
    {
     "output_type": "stream",
     "name": "stdout",
     "text": [
      "Nodes: 0, Edges: 0\n"
     ]
    }
   ],
   "metadata": {}
  }
 ],
 "metadata": {
  "orig_nbformat": 4,
  "language_info": {
   "name": "python",
   "version": "3.9.6",
   "mimetype": "text/x-python",
   "codemirror_mode": {
    "name": "ipython",
    "version": 3
   },
   "pygments_lexer": "ipython3",
   "nbconvert_exporter": "python",
   "file_extension": ".py"
  },
  "kernelspec": {
   "name": "python3",
   "display_name": "Python 3.9.6 64-bit"
  },
  "interpreter": {
   "hash": "ac59ebe37160ed0dfa835113d9b8498d9f09ceb179beaac4002f036b9467c963"
  }
 },
 "nbformat": 4,
 "nbformat_minor": 2
}
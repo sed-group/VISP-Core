{
 "cells": [
  {
   "cell_type": "code",
   "execution_count": 4,
   "source": [
    "%matplotlib inline\r\n",
    "import matplotlib.pyplot as plt\r\n",
    "from igraph import *\r\n",
    "import networkx as nx\r\n",
    "from random import uniform, seed\r\n",
    "import numpy as np\r\n",
    "import pandas as pd\r\n",
    "import time"
   ],
   "outputs": [],
   "metadata": {}
  },
  {
   "cell_type": "code",
   "execution_count": 5,
   "source": [
    "def IC(graph_object,S,p,mc):\r\n",
    "    \"\"\"\r\n",
    "    Inputs: graph_object: 4 possible network representations \r\n",
    "                - igraph object\r\n",
    "                - Networkx object\r\n",
    "                - E x 2 Pandas dataframe of directed edges. Columns: ['source','target']\r\n",
    "                - dictionary with key=source node & values=out-neighbors\r\n",
    "            S:  List of seed nodes\r\n",
    "            p:  Disease propagation probability\r\n",
    "            mc: Number of Monte-Carlo simulations,\r\n",
    "    Output: Average number of nodes influenced by seed nodes in S\r\n",
    "    \"\"\"\r\n",
    "    \r\n",
    "    # Loop over the Monte-Carlo Simulations\r\n",
    "    spread = []\r\n",
    "    for i in range(mc):\r\n",
    "        \r\n",
    "        # Simulate propagation process      \r\n",
    "        new_active, A = S[:], S[:]\r\n",
    "        while new_active:\r\n",
    "                       \r\n",
    "            # 1. Find out-neighbors for each newly active node\r\n",
    "            if isinstance(graph_object, Graph):\r\n",
    "                targets = propagate_ig(graph_object,p,new_active)\r\n",
    "            elif isinstance(graph_object, nx.DiGraph):\r\n",
    "                targets = propagate_nx(graph_object,p,new_active)\r\n",
    "            elif isinstance(graph_object, dict):\r\n",
    "                targets = propagate_dict(graph_object,p,new_active)\r\n",
    "            elif isinstance(graph_object, pd.DataFrame):\r\n",
    "                targets = propagate_df(graph_object,p,new_active)\r\n",
    "    \r\n",
    "            # 2. Determine newly activated neighbors (set seed and sort for consistency)\r\n",
    "            np.random.seed(i)\r\n",
    "            success = np.random.uniform(0,1,len(targets)) < p\r\n",
    "            new_ones = list(np.extract(success, sorted(targets)))\r\n",
    "            \r\n",
    "            # 3. Find newly activated nodes and add to the set of activated nodes\r\n",
    "            new_active = list(set(new_ones) - set(A))\r\n",
    "            A += new_active\r\n",
    "            \r\n",
    "        spread.append(len(A))\r\n",
    "        \r\n",
    "    return(np.mean(spread),A)"
   ],
   "outputs": [],
   "metadata": {}
  },
  {
   "cell_type": "code",
   "execution_count": 6,
   "source": [
    "def propagate_nx(g,p,new_active):\r\n",
    "    \r\n",
    "    targets = []\r\n",
    "    for node in new_active:\r\n",
    "        targets += g.neighbors(node)\r\n",
    "\r\n",
    "    return(targets)"
   ],
   "outputs": [],
   "metadata": {}
  },
  {
   "cell_type": "code",
   "execution_count": 7,
   "source": [
    "def propagate_ig(g,p,new_active):\r\n",
    "    \r\n",
    "    targets = []\r\n",
    "    for node in new_active:\r\n",
    "        targets += g.neighbors(node,mode=\"out\")\r\n",
    "        \r\n",
    "    return(targets)"
   ],
   "outputs": [],
   "metadata": {}
  },
  {
   "cell_type": "code",
   "execution_count": 8,
   "source": [
    "def propagate_dict(g,p,new_active):\r\n",
    "    \r\n",
    "    targets = []\r\n",
    "    for node in new_active:       \r\n",
    "        targets += g.get(node,[])\r\n",
    "    \r\n",
    "    return(targets)"
   ],
   "outputs": [],
   "metadata": {}
  },
  {
   "cell_type": "code",
   "execution_count": 9,
   "source": [
    "def propagate_df(g,p,new_active):\r\n",
    "    \r\n",
    "    # Restrict dataset to edges that flow out of newly active nodes\r\n",
    "    temp = g.loc[g['source'].isin(new_active)]\r\n",
    "\r\n",
    "    # Extract target nodes\r\n",
    "    targets = temp['target'].tolist()\r\n",
    "    \r\n",
    "    return(targets)"
   ],
   "outputs": [],
   "metadata": {}
  },
  {
   "cell_type": "code",
   "execution_count": 12,
   "source": [
    "# Define graph creation function\r\n",
    "def make_graph(nodes,edges):\r\n",
    "    \r\n",
    "    # Generate igraph object\r\n",
    "    G = Graph.Erdos_Renyi(n=nodes,m=edges,directed=True)\r\n",
    "\r\n",
    "    # Transform into NetworkX object\r\n",
    "    g = nx.DiGraph(G.get_edgelist())\r\n",
    "\r\n",
    "    # Transform into dictionary\r\n",
    "    source_nodes = [edge.source for edge in G.es]\r\n",
    "    target_nodes = [edge.target for edge in G.es]\r\n",
    "    d = {}\r\n",
    "    for s, t in zip(source_nodes,target_nodes):\r\n",
    "        d[s] = d.get(s,[]) + [t]\r\n",
    "        \r\n",
    "    # Transform into dataframe\r\n",
    "    df = pd.DataFrame({'source': source_nodes,'target': target_nodes})\r\n",
    "\r\n",
    "    return(G, g, d, df)\r\n",
    "\r\n",
    "# Create Graphs\r\n",
    "G, g, d, df = make_graph(1000,3000)"
   ],
   "outputs": [],
   "metadata": {}
  },
  {
   "cell_type": "code",
   "execution_count": 13,
   "source": [
    "# Choose arbitrary seed set\r\n",
    "S = [0,20,33,4]\r\n",
    "\r\n",
    "# Run algorithms\r\n",
    "output_ig, A_ig = IC(G,S,p=0.2,mc=100)\r\n",
    "output_nx, A_nx = IC(g,S,p=0.2,mc=100)\r\n",
    "output_di, A_di = IC(d,S,p=0.2,mc=100)\r\n",
    "output_df, A_df = IC(df,S,p=0.2,mc=100)\r\n",
    "\r\n",
    "# Print size of cascade\r\n",
    "print(\"Size of cascade:\")\r\n",
    "print(output_ig,output_nx,output_di,output_df)\r\n",
    "\r\n",
    "# Print last activated set of nodes\r\n",
    "print(\"\\nLast Resulting Cascade:\")\r\n",
    "print(A_ig); print(A_nx); print(A_di); print(A_df)"
   ],
   "outputs": [
    {
     "output_type": "stream",
     "name": "stdout",
     "text": [
      "Size of cascade:\n",
      "29.9 29.9 29.9 29.9\n",
      "\n",
      "Last Resulting Cascade:\n",
      "[0, 20, 33, 4, 794, 517, 882, 324]\n",
      "[0, 20, 33, 4, 794, 517, 882, 324]\n",
      "[0, 20, 33, 4, 794, 517, 882, 324]\n",
      "[0, 20, 33, 4, 794, 517, 882, 324]\n"
     ]
    }
   ],
   "metadata": {}
  },
  {
   "cell_type": "code",
   "execution_count": 16,
   "source": [
    "# Simulate the processes for different network sizes\r\n",
    "e_size = [5000,10000,50000,100000,500000]\r\n",
    "ig_time, nx_time, df_time, di_time = [], [], [], []\r\n",
    "\r\n",
    "for edges in e_size:\r\n",
    "    \r\n",
    "    G, g, d, df = make_graph(5000,edges)\r\n",
    "    \r\n",
    "    start_time = time.time() \r\n",
    "    _ = IC(G,S,p=0.2,mc=100)\r\n",
    "    ig_time.append(time.time() - start_time)\r\n",
    "\r\n",
    "    start_time = time.time() \r\n",
    "    _ = IC(g,S,p=0.2,mc=100)\r\n",
    "    nx_time.append(time.time() - start_time)\r\n",
    "\r\n",
    "    start_time = time.time() \r\n",
    "    _ = IC(d,S,p=0.2,mc=100)\r\n",
    "    di_time.append(time.time() - start_time)\r\n",
    "    \r\n",
    "    start_time = time.time() \r\n",
    "    _ = IC(df,S,p=0.2,mc=100)\r\n",
    "    df_time.append(time.time() - start_time)"
   ],
   "outputs": [],
   "metadata": {}
  },
  {
   "cell_type": "code",
   "execution_count": 17,
   "source": [
    "# Plot all methods\r\n",
    "fig = plt.figure(figsize=(10,8))\r\n",
    "ax = fig.add_subplot(211)\r\n",
    "ax.plot(e_size, ig_time, label=\"igraph\", color=\"#FBB4AE\",lw=4)\r\n",
    "ax.plot(e_size, nx_time, label=\"NetworkX\",color=\"#B3CDE3\",lw=4)\r\n",
    "ax.plot(e_size, df_time, label=\"Dataframe\",color=\"#CCEBC5\",lw=4)\r\n",
    "ax.plot(e_size, di_time, label=\"Dictionary\",color=\"#DECBE4\",lw=4)\r\n",
    "ax.legend(loc = 2)\r\n",
    "plt.ylabel('Computation Time (Seconds)')\r\n",
    "plt.xlabel('Network Size (Number of Edges)')\r\n",
    "plt.title('Computation Time')\r\n",
    "plt.tick_params(bottom = False, left = False)\r\n",
    "plt.show()"
   ],
   "outputs": [
    {
     "output_type": "display_data",
     "data": {
      "image/png": "[encoded data removed]",
      "text/plain": [
       "<Figure size 720x576 with 1 Axes>"
      ]
     },
     "metadata": {
      "needs_background": "light"
     }
    }
   ],
   "metadata": {}
  },
  {
   "cell_type": "code",
   "execution_count": null,
   "source": [],
   "outputs": [],
   "metadata": {}
  }
 ],
 "metadata": {
  "orig_nbformat": 4,
  "language_info": {
   "name": "python",
   "version": "3.9.6",
   "mimetype": "text/x-python",
   "codemirror_mode": {
    "name": "ipython",
    "version": 3
   },
   "pygments_lexer": "ipython3",
   "nbconvert_exporter": "python",
   "file_extension": ".py"
  },
  "kernelspec": {
   "name": "python3",
   "display_name": "Python 3.9.6 64-bit"
  },
  "interpreter": {
   "hash": "ac59ebe37160ed0dfa835113d9b8498d9f09ceb179beaac4002f036b9467c963"
  }
 },
 "nbformat": 4,
 "nbformat_minor": 2
}
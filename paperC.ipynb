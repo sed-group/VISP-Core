{
 "metadata": {
  "language_info": {
   "codemirror_mode": {
    "name": "ipython",
    "version": 3
   },
   "file_extension": ".py",
   "mimetype": "text/x-python",
   "name": "python",
   "nbconvert_exporter": "python",
   "pygments_lexer": "ipython3",
   "version": "3.9.4"
  },
  "orig_nbformat": 2,
  "kernelspec": {
   "name": "python394jvsc74a57bd0ac59ebe37160ed0dfa835113d9b8498d9f09ceb179beaac4002f036b9467c963",
   "display_name": "Python 3.9.4 64-bit"
  },
  "metadata": {
   "interpreter": {
    "hash": "ac59ebe37160ed0dfa835113d9b8498d9f09ceb179beaac4002f036b9467c963"
   }
  }
 },
 "nbformat": 4,
 "nbformat_minor": 2,
 "cells": [
  {
   "source": [
    "## Process steps\n",
    "\n",
    "Step 1a - Identify platform alternatives\n",
    "\n",
    "Step 1b - Identify technology alternatives\n",
    "\n",
    "Step 2 - Identify key product attributes\n",
    "\n",
    "Step 3 - Create parametric platform architecture model and identify platform constraints\n",
    "\n",
    "Step 4 - Create performance models\n",
    "\n",
    "Step 5 - Construct value and cost models\n",
    "\n",
    "Step 6 - Define future scenarios\n",
    "\n",
    "Step 7 - Apply flexibility metric on scenarios and value model\n",
    "\n",
    "Step 8 - Apply optimization algorithm and identify optimal physical bandwidth"
   ],
   "cell_type": "markdown",
   "metadata": {}
  },
  {
   "cell_type": "code",
   "execution_count": 15,
   "metadata": {},
   "outputs": [],
   "source": [
    "## Identify platform alternatives\n",
    "\n",
    "platform_alternatives = [\"Platform1\",\"Platform2\",\"Platform3\"]"
   ]
  },
  {
   "cell_type": "code",
   "execution_count": 16,
   "metadata": {},
   "outputs": [],
   "source": [
    "## Identify technology alternatives\n",
    "\n",
    "technology_alternatives = [\"Tech1\",\"Tech2\",\"Tech3\"]"
   ]
  },
  {
   "cell_type": "code",
   "execution_count": 17,
   "metadata": {},
   "outputs": [],
   "source": [
    "## Identify key product attributes\n",
    "\n",
    "key_product_attributes = [\"Attribute1\",\"Attribute2\",\"Attribute3\"]"
   ]
  },
  {
   "cell_type": "code",
   "execution_count": 14,
   "metadata": {},
   "outputs": [],
   "source": [
    "## Create parametric platform architecture model and identify platform constraints\n",
    "# The creation of the platform architecture model may need to be done before defining the architecture alternatives?\n",
    "\n"
   ]
  },
  {
   "cell_type": "code",
   "execution_count": 6,
   "metadata": {},
   "outputs": [],
   "source": [
    "## Create performance models\n",
    "\n"
   ]
  },
  {
   "cell_type": "code",
   "execution_count": 7,
   "metadata": {},
   "outputs": [],
   "source": [
    "## Construct value and cost models\n",
    "\n"
   ]
  },
  {
   "cell_type": "code",
   "execution_count": 18,
   "metadata": {},
   "outputs": [],
   "source": [
    "## Define future scenarios\n",
    "\n",
    "future_scenarios = [\"Scenario1\",\"Scenario2\",\"Scenario3\"]"
   ]
  },
  {
   "cell_type": "code",
   "execution_count": 19,
   "metadata": {},
   "outputs": [
    {
     "output_type": "stream",
     "name": "stdout",
     "text": [
      "Scenario1\nScenario2\nScenario3\n"
     ]
    }
   ],
   "source": [
    "## Apply flexibility metric on scenarios and value model\n",
    "\n",
    "for i, scenario in enumerate(future_scenarios):\n",
    "    print(scenario)\n"
   ]
  },
  {
   "cell_type": "code",
   "execution_count": 21,
   "metadata": {},
   "outputs": [],
   "source": [
    "## Apply optimization algorithm and identify optimal physical bandwidth\n",
    "\n",
    "def optimization_algorithm():\n",
    "    pass"
   ]
  },
  {
   "cell_type": "code",
   "execution_count": null,
   "metadata": {},
   "outputs": [],
   "source": []
  }
 ]
}
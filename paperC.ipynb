{
 "cells": [
  {
   "cell_type": "markdown",
   "metadata": {},
   "source": [
    "## Process steps\n",
    "\n",
    "## Step 1 - Strategy definition\n",
    "\n",
    "Step 1.1 - Identify key product attributes\n",
    "\n",
    "Step 1.2 - Define future scenarios\n",
    "\n",
    "Step 1.3 - Identify platform alternatives\n",
    "\n",
    "Step 1.4 - Identify technology alternatives\n",
    "\n",
    "## Step 2 - Modelling\n",
    "\n",
    "Step 2.1 - Create performance models\n",
    "\n",
    "Step 2.2 - Create parametric platform architecture model and identify platform constraints\n",
    "\n",
    "Step 2.3 - Construct value and cost models\n",
    "\n",
    "## Step 3 - Evaluation\n",
    "\n",
    "Step 3.1 - Apply flexibility metric on scenarios and value model\n",
    "\n",
    "Step 3.2 - Apply optimization algorithm and identify optimal physical bandwidth"
   ]
  },
  {
   "cell_type": "code",
   "execution_count": 7,
   "metadata": {},
   "outputs": [],
   "source": [
    "import json\n",
    "from typing import List, Optional\n",
    "from pydantic import BaseModel, UUID4\n",
    "\n",
    "class Attribute(BaseModel):\n",
    "    uuid: UUID4\n",
    "    name: str = 'Unnamed attribute'\n",
    "    description: Optional[str] = ''\n",
    "\n",
    "class Expectation(BaseModel):\n",
    "    uuid: UUID4\n",
    "    name: str = 'Unnamed expectation'\n",
    "    description: Optional[str] = ''\n",
    "    attribute: int\n",
    "    value: float = None\n",
    "\n",
    "class Stakeholder(BaseModel):\n",
    "    uuid: UUID4\n",
    "    name: str = 'Unnamed stakeholder'\n",
    "    description: Optional[str] = ''\n",
    "    expectations: List[Expectation] = []\n",
    "\n",
    "class Technology(BaseModel):\n",
    "    uuid: UUID4\n",
    "    name: str = 'Unnamed technology'\n",
    "    description: Optional[str] = ''\n",
    "\n",
    "class Scenario(BaseModel):\n",
    "    uuid: UUID4\n",
    "    name: str = 'Unnamed scenario'\n",
    "    description: Optional[str] = ''\n",
    "\n",
    "class Platform(BaseModel):\n",
    "    uuid: UUID4\n",
    "    name: str = 'Unnamed platform'\n",
    "    description: Optional[str] = ''\n"
   ]
  },
  {
   "cell_type": "code",
   "execution_count": null,
   "metadata": {},
   "outputs": [],
   "source": [
    "# Inputs\n",
    "\n",
    "# Read input data from JSON files\n",
    "with open(\"./needs.json\") as file:\n",
    "    needs = json.load(file)\n",
    "with open(\"./stakeholders.json\") as file:\n",
    "    stakeholders = json.load(file)\n",
    "with open(\"./technologies.json\") as file:\n",
    "    technologies = json.load(file)"
   ]
  },
  {
   "cell_type": "code",
   "execution_count": 17,
   "metadata": {},
   "outputs": [],
   "source": [
    "## Identify key product attributes\n",
    "\n",
    "with open(\"./parameters.json\") as file:\n",
    "    parameters = json.load(file)\n",
    "\n",
    "key_product_attributes = [\"Attribute1\",\"Attribute2\",\"Attribute3\"]"
   ]
  },
  {
   "cell_type": "code",
   "execution_count": 18,
   "metadata": {},
   "outputs": [],
   "source": [
    "## Define future scenarios\n",
    "\n",
    "with open(\"./scenarios.json\") as file:\n",
    "    scenarios = json.load(file)\n",
    "\n",
    "future_scenarios = [\"Scenario1\",\"Scenario2\",\"Scenario3\"]"
   ]
  },
  {
   "cell_type": "code",
   "execution_count": 15,
   "metadata": {},
   "outputs": [],
   "source": [
    "## Identify platform alternatives\n",
    "\n",
    "with open(\"./platforms.json\") as file:\n",
    "    platforms = json.load(file)\n",
    "\n",
    "platform_alternatives = [\"Platform1\",\"Platform2\",\"Platform3\"]"
   ]
  },
  {
   "cell_type": "code",
   "execution_count": 16,
   "metadata": {},
   "outputs": [],
   "source": [
    "## Identify technology alternatives\n",
    "\n",
    "technology_alternatives = [\"Tech1\",\"Tech2\",\"Tech3\"]"
   ]
  },
  {
   "cell_type": "code",
   "execution_count": 14,
   "metadata": {},
   "outputs": [],
   "source": [
    "## Create parametric platform architecture model and identify platform constraints\n",
    "# The creation of the platform architecture model may need to be done before defining the architecture alternatives?\n",
    "\n"
   ]
  },
  {
   "cell_type": "code",
   "execution_count": null,
   "metadata": {},
   "outputs": [],
   "source": [
    "## Create performance models\n",
    "\n",
    "platform1_model = []\n",
    "platform2_model = []\n",
    "platform3_model = []"
   ]
  },
  {
   "cell_type": "code",
   "execution_count": 6,
   "metadata": {},
   "outputs": [],
   "source": [
    "## Create performance models\n",
    "\n",
    "tech1_performance_model = []\n",
    "tech2_performance_model = []\n",
    "tech3_performance_model = []"
   ]
  },
  {
   "cell_type": "code",
   "execution_count": 7,
   "metadata": {},
   "outputs": [],
   "source": [
    "## Construct value and cost models\n",
    "\n",
    "value_model =  []"
   ]
  },
  {
   "cell_type": "code",
   "execution_count": 19,
   "metadata": {},
   "outputs": [
    {
     "name": "stdout",
     "output_type": "stream",
     "text": [
      "Scenario1\n",
      "Scenario2\n",
      "Scenario3\n"
     ]
    }
   ],
   "source": [
    "## Apply flexibility metric on scenarios and value model\n",
    "\n",
    "for i, scenario in enumerate(future_scenarios):\n",
    "    print(scenario)\n"
   ]
  },
  {
   "cell_type": "code",
   "execution_count": 21,
   "metadata": {},
   "outputs": [],
   "source": [
    "## Apply optimization algorithm and identify optimal physical bandwidth\n",
    "\n",
    "def optimization_algorithm():\n",
    "    pass"
   ]
  },
  {
   "cell_type": "code",
   "execution_count": 2,
   "metadata": {},
   "outputs": [
    {
     "name": "stderr",
     "output_type": "stream",
     "text": [
      "100%|██████████| 1000000000/1000000000 [03:13<00:00, 5156418.77it/s]\n"
     ]
    }
   ],
   "source": [
    "from tqdm import tqdm\n",
    "for i in tqdm(range(1000000000)):\n",
    "    pass"
   ]
  },
  {
   "cell_type": "code",
   "execution_count": 3,
   "metadata": {},
   "outputs": [
    {
     "data": {
      "application/vnd.jupyter.widget-view+json": {
       "model_id": "b61d67f30f404162a540358fea2b38ce",
       "version_major": 2,
       "version_minor": 0
      },
      "text/plain": [
       "  0%|          | 0/100000000 [00:00<?, ?it/s]"
      ]
     },
     "metadata": {},
     "output_type": "display_data"
    }
   ],
   "source": [
    "from tqdm.notebook import trange, tqdm\n",
    "for i in trange(100000000):\n",
    "    pass"
   ]
  },
  {
   "cell_type": "code",
   "execution_count": null,
   "metadata": {},
   "outputs": [],
   "source": []
  }
 ],
 "metadata": {
  "interpreter": {
   "hash": "ac59ebe37160ed0dfa835113d9b8498d9f09ceb179beaac4002f036b9467c963"
  },
  "kernelspec": {
   "display_name": "Python 3.9.4 64-bit",
   "language": "python",
   "name": "python3"
  },
  "language_info": {
   "codemirror_mode": {
    "name": "ipython",
    "version": 3
   },
   "file_extension": ".py",
   "mimetype": "text/x-python",
   "name": "python",
   "nbconvert_exporter": "python",
   "pygments_lexer": "ipython3",
   "version": "3.9.6"
  },
  "metadata": {
   "interpreter": {
    "hash": "ac59ebe37160ed0dfa835113d9b8498d9f09ceb179beaac4002f036b9467c963"
   }
  },
  "orig_nbformat": 2
 },
 "nbformat": 4,
 "nbformat_minor": 2
}

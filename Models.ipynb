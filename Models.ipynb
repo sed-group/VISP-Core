{
 "nbformat": 4,
 "nbformat_minor": 2,
 "metadata": {
  "language_info": {
   "name": "python",
   "codemirror_mode": {
    "name": "ipython",
    "version": 3
   },
   "version": "3.9.2-final"
  },
  "orig_nbformat": 2,
  "file_extension": ".py",
  "mimetype": "text/x-python",
  "name": "python",
  "npconvert_exporter": "python",
  "pygments_lexer": "ipython3",
  "version": 3,
  "kernelspec": {
   "name": "python3",
   "display_name": "Python 3.9.2 64-bit",
   "metadata": {
    "interpreter": {
     "hash": "a7348f4911d95535687e160000444e00b087aa6ecaf3a854303bb0e160f11dfa"
    }
   }
  }
 },
 "cells": [
  {
   "cell_type": "code",
   "execution_count": 16,
   "metadata": {},
   "outputs": [],
   "source": [
    "%matplotlib inline\n",
    "from ipywidgets import interact\n",
    "import numpy as np\n",
    "import seaborn as sns\n",
    "import matplotlib.pyplot as plt"
   ]
  },
  {
   "cell_type": "markdown",
   "metadata": {},
   "source": [
    "# Models"
   ]
  },
  {
   "cell_type": "markdown",
   "metadata": {},
   "source": [
    "## Stakeholder Expectations and Needs Model\n"
   ]
  },
  {
   "cell_type": "code",
   "execution_count": 3,
   "metadata": {},
   "outputs": [],
   "source": [
    "from visp.model import Stakeholder, Expectation, Need\n",
    "\n",
    "stakeholders = [\n",
    "    Stakeholder(name=\"Jane Doe\",\n",
    "                description=\"Marketing Leader for EMEA\",\n",
    "                role=\"Marketing Leader\",\n",
    "                organization=\"Internal\"),\n",
    "    Stakeholder(name=\"John Smith\",\n",
    "                description=\"Project Manager for the component development\",\n",
    "                role=\"Project Manager\",\n",
    "                organization=\"Internal\")\n",
    "]\n",
    "\n",
    "stakeholder_expections = ['it want it pink','make it cheap']\n",
    "\n",
    "stakeholder_needs = [\n",
    "    Need(\n",
    "        name=\"Move cursor\",\n",
    "        description=\"Move cursor on the screen\",\n",
    "        stakeholder=\"external\",\n",
    "        category=\"functional\"\n",
    "    ),\n",
    "    Need(\n",
    "        name=\"Single hand\",\n",
    "        description=\"Operated with one hand\",\n",
    "        stakeholder=\"external\",\n",
    "        category=\"performance\"\n",
    "    ),\n",
    "    Need(\n",
    "        name=\"Branding\",\n",
    "        description=\"Follow branding guidelines\",\n",
    "        stakeholder=\"internal\",\n",
    "        category=\"soft\"\n",
    "    )\n",
    "]"
   ]
  },
  {
   "cell_type": "code",
   "execution_count": 4,
   "metadata": {},
   "outputs": [
    {
     "output_type": "execute_result",
     "data": {
      "text/plain": [
       "<Stakeholder: name=John Smith, description=Project Manager for the component development, role=Project Manager, organization=Internal>"
      ]
     },
     "metadata": {},
     "execution_count": 4
    }
   ],
   "source": [
    "stakeholders[1]"
   ]
  },
  {
   "cell_type": "markdown",
   "metadata": {},
   "source": [
    "## Product Architecture Model\n",
    "Inputs: Standards/Regulations\n",
    "\n",
    "Outputs: Structure, Design Variables (x), Soft Attributes (s)"
   ]
  },
  {
   "cell_type": "code",
   "execution_count": 5,
   "metadata": {},
   "outputs": [],
   "source": [
    "from visp.model import DesignSolution, Interaction, Parameter\n",
    "#TODO define component class (modules, parts), they have design variables (x) and soft attributes (s)\n",
    "#TODO define interface class\n",
    "#TODO define structure class as digraph\n",
    "\n",
    "product_components = ['Component1','Component2','Component3']\n",
    "product_interfaces = ['Interface1','Interface2']\n",
    "product_structure = [product_components, product_interfaces]\n",
    "\n",
    "design_variables = [\n",
    "    {\n",
    "        'name':'x1',\n",
    "        'description':'A design variable',\n",
    "        'type':'number',\n",
    "        'min':0,\n",
    "        'max':100,\n",
    "        'value':50\n",
    "    },\n",
    "    {\n",
    "        'name':'x2',\n",
    "        'description':'A second design variable',\n",
    "        'type':'number',\n",
    "        'min':0,\n",
    "        'max':100,\n",
    "        'value':70\n",
    "    },\n",
    "    {\n",
    "        'name':'x3',\n",
    "        'description':'A third design variable',\n",
    "        'type':'option',\n",
    "        'value':50\n",
    "    }\n",
    "]\n",
    "\n",
    "soft_attributes = [\n",
    "    {\n",
    "        'name':'Something soft',\n",
    "        'value':'It is good'\n",
    "    }\n",
    "]"
   ]
  },
  {
   "cell_type": "code",
   "execution_count": 6,
   "metadata": {},
   "outputs": [
    {
     "output_type": "stream",
     "name": "stdout",
     "text": [
      "<Parameter: name=hello, description=None>\n"
     ]
    }
   ],
   "source": [
    "a = Parameter(\"hello\", min=0)\n",
    "print(a)"
   ]
  },
  {
   "cell_type": "markdown",
   "metadata": {},
   "source": [
    "# Engineering Performance Model\n",
    "Inputs: technology, design variables (x)\n",
    "\n",
    "Outputs: performance attributes (f)"
   ]
  },
  {
   "cell_type": "code",
   "execution_count": 7,
   "metadata": {},
   "outputs": [
    {
     "output_type": "stream",
     "name": "stdout",
     "text": [
      "f1 50\nf2 True\n"
     ]
    }
   ],
   "source": [
    "#TODO define technology class\n",
    "#TODO define design variable class\n",
    "#TODO defina performance attribute class\n",
    "\n",
    "def engineering_performance_model(design_variables):\n",
    "    performance_attributes = [\n",
    "        {\n",
    "            'name':'f1',\n",
    "            'description':'A performance attribute',\n",
    "            'type':'number',\n",
    "            'min':0,\n",
    "            'max':100,\n",
    "            'value':50\n",
    "        },\n",
    "        {\n",
    "            'name':'f2',\n",
    "            'description':'A second performance attribute',\n",
    "            'type':'boolean',\n",
    "            'value':True\n",
    "        }\n",
    "    ]\n",
    "    return performance_attributes\n",
    "\n",
    "performance_attributes = engineering_performance_model(design_variables)\n",
    "\n",
    "for attribute in performance_attributes:\n",
    "    print(attribute['name'],attribute['value'])"
   ]
  },
  {
   "cell_type": "markdown",
   "metadata": {},
   "source": [
    "# Product Value Model\n",
    "Inputs: Stakeholders, Performance Attributes (f), Soft Attributes (s)\n",
    "\n",
    "Outputs: Value (V)\n",
    "\n",
    "Consider:\n",
    "- How well does the product fulfill the needs of the stakeholders?\n",
    "- How well does it in regards to the functional needs, the performance needs and the soft needs?\n",
    "- How satisfied each of the stakeholders is with the solution?"
   ]
  },
  {
   "cell_type": "code",
   "execution_count": 8,
   "metadata": {},
   "outputs": [
    {
     "output_type": "error",
     "ename": "TypeError",
     "evalue": "'>' not supported between instances of 'dict' and 'Need'",
     "traceback": [
      "\u001b[1;31m---------------------------------------------------------------------------\u001b[0m",
      "\u001b[1;31mTypeError\u001b[0m                                 Traceback (most recent call last)",
      "\u001b[1;32m<ipython-input-8-b1b97821de8e>\u001b[0m in \u001b[0;36m<module>\u001b[1;34m\u001b[0m\n\u001b[0;32m     10\u001b[0m     \u001b[1;32mreturn\u001b[0m \u001b[0mvalue\u001b[0m\u001b[1;33m\u001b[0m\u001b[1;33m\u001b[0m\u001b[0m\n\u001b[0;32m     11\u001b[0m \u001b[1;33m\u001b[0m\u001b[0m\n\u001b[1;32m---> 12\u001b[1;33m \u001b[0mvalue\u001b[0m \u001b[1;33m=\u001b[0m \u001b[0mproduct_value\u001b[0m\u001b[1;33m(\u001b[0m\u001b[0mstakeholder_needs\u001b[0m\u001b[1;33m,\u001b[0m \u001b[0mperformance_attributes\u001b[0m\u001b[1;33m,\u001b[0m \u001b[0msoft_attributes\u001b[0m\u001b[1;33m)\u001b[0m\u001b[1;33m\u001b[0m\u001b[1;33m\u001b[0m\u001b[0m\n\u001b[0m\u001b[0;32m     13\u001b[0m \u001b[0mprint\u001b[0m\u001b[1;33m(\u001b[0m\u001b[0mvalue\u001b[0m\u001b[1;33m)\u001b[0m\u001b[1;33m\u001b[0m\u001b[1;33m\u001b[0m\u001b[0m\n",
      "\u001b[1;32m<ipython-input-8-b1b97821de8e>\u001b[0m in \u001b[0;36mproduct_value\u001b[1;34m(stakeholder_needs, performance_attributes, soft_attributes)\u001b[0m\n\u001b[0;32m      4\u001b[0m \u001b[1;33m\u001b[0m\u001b[0m\n\u001b[0;32m      5\u001b[0m \u001b[1;32mdef\u001b[0m \u001b[0mproduct_value\u001b[0m\u001b[1;33m(\u001b[0m\u001b[0mstakeholder_needs\u001b[0m\u001b[1;33m,\u001b[0m \u001b[0mperformance_attributes\u001b[0m\u001b[1;33m,\u001b[0m \u001b[0msoft_attributes\u001b[0m\u001b[1;33m)\u001b[0m\u001b[1;33m:\u001b[0m\u001b[1;33m\u001b[0m\u001b[1;33m\u001b[0m\u001b[0m\n\u001b[1;32m----> 6\u001b[1;33m     \u001b[1;32mif\u001b[0m \u001b[1;33m(\u001b[0m\u001b[0mperformance_attributes\u001b[0m \u001b[1;33m+\u001b[0m \u001b[0msoft_attributes\u001b[0m\u001b[1;33m)\u001b[0m \u001b[1;33m>\u001b[0m \u001b[0mstakeholder_needs\u001b[0m\u001b[1;33m:\u001b[0m\u001b[1;33m\u001b[0m\u001b[1;33m\u001b[0m\u001b[0m\n\u001b[0m\u001b[0;32m      7\u001b[0m         \u001b[0mvalue\u001b[0m \u001b[1;33m=\u001b[0m \u001b[1;36m100\u001b[0m\u001b[1;33m\u001b[0m\u001b[1;33m\u001b[0m\u001b[0m\n\u001b[0;32m      8\u001b[0m     \u001b[1;32melse\u001b[0m\u001b[1;33m:\u001b[0m\u001b[1;33m\u001b[0m\u001b[1;33m\u001b[0m\u001b[0m\n",
      "\u001b[1;31mTypeError\u001b[0m: '>' not supported between instances of 'dict' and 'Need'"
     ]
    }
   ],
   "source": [
    "#TODO define Value Dimension class\n",
    "#TODO define Value Driver class\n",
    "#TODO define Value Creation Strategy class\n",
    "\n",
    "def product_value(stakeholder_needs, performance_attributes, soft_attributes):\n",
    "    if (performance_attributes + soft_attributes) > stakeholder_needs:\n",
    "        value = 100\n",
    "    else:\n",
    "        value = 0\n",
    "    return value\n",
    "\n",
    "value = product_value(stakeholder_needs, performance_attributes, soft_attributes)\n",
    "print(value)"
   ]
  },
  {
   "cell_type": "markdown",
   "metadata": {},
   "source": [
    "# Market Demand Model\n",
    "Inputs: Product Value (V), Competition, Price (P)\n",
    "\n",
    "Output: Demand (D)"
   ]
  },
  {
   "cell_type": "code",
   "execution_count": 9,
   "metadata": {},
   "outputs": [],
   "source": [
    "\n",
    "def demand(value,competition,price):\n",
    "    V = value\n",
    "    P = price\n",
    "    D = (100 * V) - (90 * P)\n",
    "    return D"
   ]
  },
  {
   "cell_type": "code",
   "execution_count": 10,
   "metadata": {},
   "outputs": [
    {
     "output_type": "display_data",
     "data": {
      "text/plain": "interactive(children=(IntSlider(value=5, description='value', max=10, min=1), IntSlider(value=5, description='…",
      "application/vnd.jupyter.widget-view+json": {
       "version_major": 2,
       "version_minor": 0,
       "model_id": "cb61e5c4c4414488ba9a1d37298e761d"
      }
     },
     "metadata": {}
    },
    {
     "output_type": "execute_result",
     "data": {
      "text/plain": [
       "<function __main__.plot_demand(value, competition, price)>"
      ]
     },
     "metadata": {},
     "execution_count": 10
    }
   ],
   "source": [
    "def plot_demand(value,competition,price):\n",
    "    D = demand(value,competition,price)\n",
    "    print(D)\n",
    "    sns.histplot(np.random.normal(D, 1, 100),kde=True)\n",
    "    plt.show()\n",
    "interact(plot_demand, value = (1,10), competition = (1,10), price = (1,10))"
   ]
  },
  {
   "cell_type": "markdown",
   "metadata": {},
   "source": [
    "# Manufacturing Cost Model\n",
    "Inputs: Structure, Raw materials, Labor rates, Suppliers, Demand\n",
    "\n",
    "Outputs: Variable Costs (C)"
   ]
  },
  {
   "cell_type": "code",
   "execution_count": 11,
   "metadata": {},
   "outputs": [],
   "source": [
    "\n",
    "def variable_cost(product_structure, demand):\n",
    "    return 10 * demand"
   ]
  },
  {
   "cell_type": "markdown",
   "metadata": {},
   "source": [
    "# Finance Model\n",
    "Inputs: Demand (D), Variable Cost (C), Fixed Cost (F), Interest Rate, Price\n",
    "\n",
    "Outputs: Profit"
   ]
  },
  {
   "cell_type": "code",
   "execution_count": 12,
   "metadata": {},
   "outputs": [],
   "source": [
    "\n",
    "def profit(demand, variable_cost, fixed_cost, interest_rate, price):\n",
    "    profit = (demand * price) - (demand * variable_cost) - fixed_cost\n",
    "    print (profit)\n",
    "    return profit"
   ]
  },
  {
   "cell_type": "code",
   "execution_count": 13,
   "metadata": {},
   "outputs": [
    {
     "output_type": "stream",
     "name": "stdout",
     "text": [
      "0\n"
     ]
    },
    {
     "output_type": "execute_result",
     "data": {
      "text/plain": [
       "0"
      ]
     },
     "metadata": {},
     "execution_count": 13
    }
   ],
   "source": [
    "profit(50,30,500,0,40)"
   ]
  },
  {
   "cell_type": "code",
   "execution_count": 14,
   "metadata": {},
   "outputs": [],
   "source": [
    "import ipywidgets as widgets"
   ]
  },
  {
   "cell_type": "code",
   "execution_count": 15,
   "metadata": {},
   "outputs": [
    {
     "output_type": "display_data",
     "data": {
      "text/plain": "VBox(children=(FloatSlider(value=0.0, description='Demand: ', layout=Layout(height='auto', width='auto'), max=…",
      "application/vnd.jupyter.widget-view+json": {
       "version_major": 2,
       "version_minor": 0,
       "model_id": "9decd8b3a9f74da6a25f57ed932f171b"
      }
     },
     "metadata": {}
    },
    {
     "output_type": "display_data",
     "data": {
      "text/plain": "Output()",
      "application/vnd.jupyter.widget-view+json": {
       "version_major": 2,
       "version_minor": 0,
       "model_id": "8da63567d5394ba7a5853d17668d52ae"
      }
     },
     "metadata": {}
    }
   ],
   "source": [
    "demand_slider =        widgets.FloatSlider(min=0,\n",
    "                                           max=1000000,\n",
    "                                           default_value=100000,\n",
    "                                           description=\"Demand: \",\n",
    "                                           layout=widgets.Layout(width='auto', height='auto'))\n",
    "\n",
    "variable_cost_slider = widgets.FloatSlider(min=0,\n",
    "                                           max=50000,\n",
    "                                           default_value=30000,\n",
    "                                           description=\"Variable Cost: \",\n",
    "                                           layout=widgets.Layout(width='auto', height='auto'))\n",
    "\n",
    "fixed_cost_slider =     widgets.FloatSlider(min=0,\n",
    "                                            max=10000,\n",
    "                                            default_value=5000,\n",
    "                                            description=\"Fixed Cost: \",\n",
    "                                            layout=widgets.Layout(width='auto', height='auto'))\n",
    "\n",
    "interest_rate_slider =  widgets.FloatSlider(min=-5,\n",
    "                                            max=15,\n",
    "                                            default_value=2,\n",
    "                                            description=\"Interest Rate: \",\n",
    "                                            layout=widgets.Layout(width='auto', height='auto'))\n",
    "\n",
    "price_slider =          widgets.FloatSlider(min=0, \n",
    "                                            max=100000,\n",
    "                                            default_value=40000,\n",
    "                                            description=\"Price: \",\n",
    "                                            layout=widgets.Layout(width='auto', height='auto'))\n",
    "\n",
    "ui = widgets.VBox([demand_slider,\n",
    "                   variable_cost_slider,\n",
    "                   fixed_cost_slider,\n",
    "                   interest_rate_slider,\n",
    "                   price_slider])\n",
    "\n",
    "\n",
    "out = widgets.interactive_output(profit, {'demand': demand_slider,\n",
    "                                          'variable_cost': variable_cost_slider,\n",
    "                                          'fixed_cost': fixed_cost_slider,\n",
    "                                          'interest_rate': interest_rate_slider,\n",
    "                                          'price': price_slider})\n",
    "\n",
    "display(ui, out)"
   ]
  },
  {
   "cell_type": "code",
   "execution_count": null,
   "metadata": {},
   "outputs": [],
   "source": []
  }
 ]
}
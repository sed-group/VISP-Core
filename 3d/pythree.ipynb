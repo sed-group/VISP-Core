{
 "cells": [
  {
   "cell_type": "code",
   "execution_count": 1,
   "metadata": {},
   "outputs": [],
   "source": [
    "from pythreejs import *\n",
    "from IPython.display import display\n",
    "from math import pi"
   ]
  },
  {
   "cell_type": "code",
   "execution_count": 2,
   "metadata": {},
   "outputs": [],
   "source": [
    "view_width = 600\n",
    "view_height = 400"
   ]
  },
  {
   "cell_type": "code",
   "execution_count": 3,
   "metadata": {},
   "outputs": [],
   "source": [
    "sphere = Mesh(\n",
    "    SphereBufferGeometry(1, 32, 16),\n",
    "    MeshStandardMaterial(color='red')\n",
    ")"
   ]
  },
  {
   "cell_type": "code",
   "execution_count": 4,
   "metadata": {},
   "outputs": [],
   "source": [
    "box = Mesh(\n",
    "    BoxBufferGeometry(1, 1, 1),\n",
    "    MeshPhysicalMaterial(color='green'),\n",
    "    position=[2, 0, 4]\n",
    ")"
   ]
  },
  {
   "cell_type": "code",
   "execution_count": 5,
   "metadata": {},
   "outputs": [],
   "source": [
    "objects = []"
   ]
  },
  {
   "cell_type": "code",
   "execution_count": 6,
   "metadata": {},
   "outputs": [
    {
     "output_type": "stream",
     "name": "stdout",
     "text": [
      "0 {'name': 'hud', 'geometry': [1, 1, 1], 'position': [1, 1, 1]}\n1 {'name': 'ccb', 'geometry': [2, 1, 1], 'position': [1, 3, 1]}\n2 {'name': 'ws', 'geometry': [1, 2, 1], 'position': [3, 1, 1]}\n3 {'name': 'ac', 'geometry': [1, 1, 2], 'position': [1, 1, 3]}\n"
     ]
    }
   ],
   "source": [
    "components = [\n",
    "    {\"name\":\"hud\", \"geometry\":[1,1,1], \"position\":[1,1,1]},\n",
    "    {\"name\":\"ccb\", \"geometry\":[2,1,1], \"position\":[1,3,1]},\n",
    "    {\"name\":\"ws\", \"geometry\":[1,2,1], \"position\":[3,1,1]},\n",
    "    {\"name\":\"ac\", \"geometry\":[1,1,2], \"position\":[1,1,3]}\n",
    "]\n",
    "\n",
    "for count,ele in enumerate(components): \n",
    "    print(count,ele)\n",
    "    objects.append(Mesh(\n",
    "        BoxBufferGeometry(ele[\"geometry\"][0],ele[\"geometry\"][1],ele[\"geometry\"][2]),\n",
    "        MeshPhysicalMaterial(color='green'),\n",
    "        position=ele[\"position\"])\n",
    "    )"
   ]
  },
  {
   "cell_type": "code",
   "execution_count": 7,
   "metadata": {},
   "outputs": [],
   "source": [
    "camera = PerspectiveCamera(position=[10, 6, 10], aspect=view_width/view_height)\n",
    "key_light = DirectionalLight(position=[0, 10, 10])\n",
    "ambient_light = AmbientLight()"
   ]
  },
  {
   "cell_type": "code",
   "execution_count": 8,
   "metadata": {},
   "outputs": [],
   "source": [
    "scene = Scene(children=objects+[camera, key_light, ambient_light])\n",
    "controller = OrbitControls(controlling=camera)\n",
    "renderer = Renderer(camera=camera, scene=scene, controls=[controller],\n",
    "                    width=view_width, height=view_height)"
   ]
  },
  {
   "cell_type": "code",
   "execution_count": 9,
   "metadata": {},
   "outputs": [
    {
     "output_type": "display_data",
     "data": {
      "text/plain": "Renderer(camera=PerspectiveCamera(aspect=1.5, position=(10.0, 6.0, 10.0), projectionMatrix=(1.0, 0.0, 0.0, 0.0…",
      "application/vnd.jupyter.widget-view+json": {
       "version_major": 2,
       "version_minor": 0,
       "model_id": "b92fb9eac8ee4568afe48d61d5986f21"
      }
     },
     "metadata": {}
    }
   ],
   "source": [
    "renderer"
   ]
  },
  {
   "cell_type": "code",
   "execution_count": 33,
   "metadata": {},
   "outputs": [
    {
     "ename": "TypeError",
     "evalue": "__init__() takes 1 positional argument but 3 were given",
     "output_type": "error",
     "traceback": [
      "\u001b[1;31m---------------------------------------------------------------------------\u001b[0m",
      "\u001b[1;31mTypeError\u001b[0m                                 Traceback (most recent call last)",
      "\u001b[1;32m<ipython-input-33-a864a16e3ca7>\u001b[0m in \u001b[0;36m<module>\u001b[1;34m\u001b[0m\n\u001b[0;32m     40\u001b[0m };\n\u001b[0;32m     41\u001b[0m \u001b[1;33m\u001b[0m\u001b[0m\n\u001b[1;32m---> 42\u001b[1;33m \u001b[0mgeometry\u001b[0m \u001b[1;33m=\u001b[0m \u001b[0mExtrudeGeometry\u001b[0m\u001b[1;33m(\u001b[0m \u001b[0mcaliforniaShape\u001b[0m\u001b[1;33m,\u001b[0m \u001b[0mextrudeSettings\u001b[0m \u001b[1;33m)\u001b[0m\u001b[1;33m\u001b[0m\u001b[1;33m\u001b[0m\u001b[0m\n\u001b[0m\u001b[0;32m     43\u001b[0m \u001b[0mmaterial\u001b[0m \u001b[1;33m=\u001b[0m \u001b[0mMeshBasicMaterial\u001b[0m\u001b[1;33m(\u001b[0m \u001b[1;33m{\u001b[0m \u001b[1;34m\"color\"\u001b[0m\u001b[1;33m:\u001b[0m \u001b[1;36m0x00ff00\u001b[0m \u001b[1;33m}\u001b[0m \u001b[1;33m)\u001b[0m\u001b[1;33m\u001b[0m\u001b[1;33m\u001b[0m\u001b[0m\n\u001b[0;32m     44\u001b[0m \u001b[0mmesh\u001b[0m \u001b[1;33m=\u001b[0m \u001b[0mMesh\u001b[0m\u001b[1;33m(\u001b[0m \u001b[0mgeometry\u001b[0m\u001b[1;33m,\u001b[0m \u001b[0mmaterial\u001b[0m \u001b[1;33m)\u001b[0m\u001b[1;33m\u001b[0m\u001b[1;33m\u001b[0m\u001b[0m\n",
      "\u001b[1;31mTypeError\u001b[0m: __init__() takes 1 positional argument but 3 were given"
     ]
    }
   ],
   "source": [
    "# California\n",
    "\n",
    "californiaPts = []\n",
    "\n",
    "californiaPts.append( Vector2( (610, 320) ) )\n",
    "californiaPts.append( Vector2( (450, 300) ) )\n",
    "californiaPts.append( Vector2( (392, 392) ) )\n",
    "californiaPts.append( Vector2( (266, 438) ) )\n",
    "californiaPts.append( Vector2( (190, 570) ) )\n",
    "californiaPts.append( Vector2( (190, 600) ) )\n",
    "californiaPts.append( Vector2( (160, 620) ) )\n",
    "californiaPts.append( Vector2( (160, 650) ) )\n",
    "californiaPts.append( Vector2( (180, 640) ) )\n",
    "californiaPts.append( Vector2( (165, 680) ) )\n",
    "californiaPts.append( Vector2( (150, 670) ) )\n",
    "californiaPts.append( Vector2( (90, 737) ) )\n",
    "californiaPts.append( Vector2( (80, 795) ) )\n",
    "californiaPts.append( Vector2( (50, 835) ) )\n",
    "californiaPts.append( Vector2( (64, 870) ) )\n",
    "californiaPts.append( Vector2( (60, 945) ) )\n",
    "californiaPts.append( Vector2( (300, 945) ) )\n",
    "californiaPts.append( Vector2( (300, 743) ) )\n",
    "californiaPts.append( Vector2( (600, 473) ) )\n",
    "californiaPts.append( Vector2( (626, 425) ) )\n",
    "californiaPts.append( Vector2( (600, 370) ) )\n",
    "californiaPts.append( Vector2( (610, 320) ) )\n",
    "\n",
    "#for ( let i = 0; i < californiaPts.length; i ++ ) californiaPts[ i ].multiplyScalar( 0.25 );\n",
    "\n",
    "californiaShape = Shape()\n",
    "\n",
    "extrudeSettings = {\n",
    "    \"steps\": 2,\n",
    "    \"depth\": 16,\n",
    "    \"bevelEnabled\": True,\n",
    "    \"bevelThickness\": 1,\n",
    "    \"bevelSize\": 1,\n",
    "    \"bevelOffset\": 0,\n",
    "    \"bevelSegments\": 1\n",
    "};\n",
    "\n",
    "geometry = ExtrudeGeometry( californiaShape, extrudeSettings )\n",
    "material = MeshBasicMaterial( { \"color\": 0x00ff00 } )\n",
    "mesh = Mesh( geometry, material ) \n",
    "scene.add( mesh )"
   ]
  },
  {
   "cell_type": "code",
   "execution_count": 26,
   "metadata": {},
   "outputs": [
    {
     "data": {
      "text/plain": [
       "[<pythreejs.traits.Vector2 at 0x1d2ff502580>,\n",
       " <pythreejs.traits.Vector2 at 0x1d2eec5f340>,\n",
       " <pythreejs.traits.Vector2 at 0x1d2ff502a90>,\n",
       " <pythreejs.traits.Vector2 at 0x1d2ff502f40>,\n",
       " <pythreejs.traits.Vector2 at 0x1d2ff502790>,\n",
       " <pythreejs.traits.Vector2 at 0x1d2ff5028b0>,\n",
       " <pythreejs.traits.Vector2 at 0x1d2ff502130>,\n",
       " <pythreejs.traits.Vector2 at 0x1d2ff502d00>,\n",
       " <pythreejs.traits.Vector2 at 0x1d2ff502d90>,\n",
       " <pythreejs.traits.Vector2 at 0x1d2ff502c70>,\n",
       " <pythreejs.traits.Vector2 at 0x1d2ff502340>,\n",
       " <pythreejs.traits.Vector2 at 0x1d2ff5057c0>,\n",
       " <pythreejs.traits.Vector2 at 0x1d2ff505fd0>,\n",
       " <pythreejs.traits.Vector2 at 0x1d2ff505fa0>,\n",
       " <pythreejs.traits.Vector2 at 0x1d2ff5057f0>,\n",
       " <pythreejs.traits.Vector2 at 0x1d2ff505ee0>,\n",
       " <pythreejs.traits.Vector2 at 0x1d2ff505e80>,\n",
       " <pythreejs.traits.Vector2 at 0x1d2ff5055b0>,\n",
       " <pythreejs.traits.Vector2 at 0x1d2ff505550>,\n",
       " <pythreejs.traits.Vector2 at 0x1d2ff5054c0>,\n",
       " <pythreejs.traits.Vector2 at 0x1d2ff505610>,\n",
       " <pythreejs.traits.Vector2 at 0x1d2ff505070>]"
      ]
     },
     "execution_count": 26,
     "metadata": {},
     "output_type": "execute_result"
    }
   ],
   "source": [
    "californiaPts"
   ]
  },
  {
   "cell_type": "markdown",
   "metadata": {},
   "source": [
    "# Animation"
   ]
  },
  {
   "cell_type": "code",
   "execution_count": 10,
   "metadata": {},
   "outputs": [],
   "source": [
    "positon_track = VectorKeyframeTrack(name='.position',\n",
    "    times=[0, 2, 5],\n",
    "    values=[10, 6, 10,\n",
    "            6.3, 3.78, 6.3,\n",
    "            -2.98, 0.84, 9.2,\n",
    "           ])\n",
    "rotation_track = QuaternionKeyframeTrack(name='.quaternion',\n",
    "    times=[0, 2, 5],\n",
    "    values=[-0.184, 0.375, 0.0762, 0.905,\n",
    "            -0.184, 0.375, 0.0762, 0.905,\n",
    "            -0.0430, -0.156, -0.00681, 0.987,\n",
    "           ])"
   ]
  },
  {
   "cell_type": "code",
   "execution_count": 11,
   "metadata": {},
   "outputs": [],
   "source": [
    "camera_clip = AnimationClip(tracks=[positon_track, rotation_track])\n",
    "camera_action = AnimationAction(AnimationMixer(camera), camera_clip, camera)"
   ]
  },
  {
   "cell_type": "code",
   "execution_count": 12,
   "metadata": {},
   "outputs": [
    {
     "output_type": "display_data",
     "data": {
      "text/plain": "AnimationAction(clip=AnimationClip(duration=5.0, tracks=(VectorKeyframeTrack(name='.position', times=array([0,…",
      "application/vnd.jupyter.widget-view+json": {
       "version_major": 2,
       "version_minor": 0,
       "model_id": "6415fe63b63843638a5aad182527da3f"
      }
     },
     "metadata": {}
    }
   ],
   "source": [
    "camera_action"
   ]
  },
  {
   "cell_type": "code",
   "execution_count": 13,
   "metadata": {},
   "outputs": [],
   "source": [
    "color_track = ColorKeyframeTrack(name='.material.color',\n",
    "    times=[0, 1], values=[1, 0, 0,  0, 0, 1])  # red to blue\n",
    "\n",
    "color_clip = AnimationClip(tracks=[color_track], duration=1.5)\n",
    "color_action = AnimationAction(AnimationMixer(sphere), color_clip, sphere)"
   ]
  },
  {
   "cell_type": "code",
   "execution_count": 14,
   "metadata": {},
   "outputs": [
    {
     "output_type": "display_data",
     "data": {
      "text/plain": "AnimationAction(clip=AnimationClip(duration=1.5, tracks=(ColorKeyframeTrack(name='.material.color', times=arra…",
      "application/vnd.jupyter.widget-view+json": {
       "version_major": 2,
       "version_minor": 0,
       "model_id": "993575aa669140498a32d79cbe588c72"
      }
     },
     "metadata": {}
    }
   ],
   "source": [
    "color_action"
   ]
  },
  {
   "cell_type": "code",
   "execution_count": null,
   "metadata": {},
   "outputs": [],
   "source": []
  }
 ],
 "metadata": {
  "kernelspec": {
   "name": "python3",
   "display_name": "Python 3.9.2 64-bit",
   "metadata": {
    "interpreter": {
     "hash": "a7348f4911d95535687e160000444e00b087aa6ecaf3a854303bb0e160f11dfa"
    }
   }
  },
  "language_info": {
   "codemirror_mode": {
    "name": "ipython",
    "version": 3
   },
   "file_extension": ".py",
   "mimetype": "text/x-python",
   "name": "python",
   "nbconvert_exporter": "python",
   "pygments_lexer": "ipython3",
   "version": "3.9.2-final"
  }
 },
 "nbformat": 4,
 "nbformat_minor": 4
}
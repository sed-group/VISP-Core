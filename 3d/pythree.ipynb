{
 "cells": [
  {
   "cell_type": "markdown",
   "source": [
    "# Parametric Architectural Structure"
   ],
   "metadata": {}
  },
  {
   "cell_type": "markdown",
   "source": [
    "## Import libraries"
   ],
   "metadata": {}
  },
  {
   "cell_type": "code",
   "execution_count": 1,
   "source": [
    "from pythreejs import *\r\n",
    "import json"
   ],
   "outputs": [],
   "metadata": {}
  },
  {
   "cell_type": "markdown",
   "source": [
    "## Load parts' data"
   ],
   "metadata": {}
  },
  {
   "cell_type": "code",
   "execution_count": 16,
   "source": [
    "# Opening JSON file\r\n",
    "with open('../data/HUDParts.json',) as file:\r\n",
    "    # returns JSON object as a dictionary\r\n",
    "    data = json.load(file)"
   ],
   "outputs": [],
   "metadata": {}
  },
  {
   "cell_type": "code",
   "execution_count": 25,
   "source": [
    "objects = []\r\n",
    "\r\n",
    "for count,ele in enumerate(data):\r\n",
    "    if \"cylinder\" in ele.keys():\r\n",
    "        objects.append(Mesh(\r\n",
    "            CylinderBufferGeometry(ele[\"cylinder\"][\"radius\"],\r\n",
    "                            ele[\"cylinder\"][\"radius\"],\r\n",
    "                            ele[\"cylinder\"][\"height\"]),\r\n",
    "            MeshPhysicalMaterial(color=ele[\"color\"],wireframe=True),\r\n",
    "            position=(ele[\"placement\"][\"position\"][\"x\"],\r\n",
    "                    ele[\"placement\"][\"position\"][\"y\"],\r\n",
    "                    ele[\"placement\"][\"position\"][\"z\"]))\r\n",
    "        )\r\n",
    "    else:\r\n",
    "        objects.append(Mesh(\r\n",
    "            BoxBufferGeometry(ele[\"size\"][\"length\"],\r\n",
    "                            ele[\"size\"][\"width\"],\r\n",
    "                            ele[\"size\"][\"height\"]),\r\n",
    "            MeshPhysicalMaterial(color=ele[\"color\"]),\r\n",
    "            position=(ele[\"placement\"][\"position\"][\"x\"],\r\n",
    "                    ele[\"placement\"][\"position\"][\"y\"],\r\n",
    "                    ele[\"placement\"][\"position\"][\"z\"]))\r\n",
    "        )"
   ],
   "outputs": [],
   "metadata": {}
  },
  {
   "cell_type": "markdown",
   "source": [
    "## Render visualization"
   ],
   "metadata": {}
  },
  {
   "cell_type": "code",
   "execution_count": 26,
   "source": [
    "view_width = 900\r\n",
    "view_height = 600\r\n",
    "\r\n",
    "camera = PerspectiveCamera(position=[3000, 1000, 3000], aspect=view_width/view_height,far=10000)\r\n",
    "key_light = DirectionalLight(position=[0, 10, 10])\r\n",
    "ambient_light = AmbientLight()\r\n",
    "\r\n",
    "scene = Scene(children=objects+[camera, key_light, ambient_light])\r\n",
    "controller = OrbitControls(controlling=camera)\r\n",
    "renderer = Renderer(camera=camera, scene=scene, controls=[controller],\r\n",
    "                    width=view_width, height=view_height)\r\n",
    "\r\n",
    "renderer"
   ],
   "outputs": [
    {
     "output_type": "display_data",
     "data": {
      "application/vnd.jupyter.widget-view+json": {
       "version_major": 2,
       "version_minor": 0,
       "model_id": "72cdcb62db1147db9fa2e9c7032402a7"
      },
      "text/plain": [
       "Renderer(camera=PerspectiveCamera(aspect=1.5, far=10000.0, position=(3000.0, 1000.0, 3000.0), projectionMatrix…"
      ]
     },
     "metadata": {}
    }
   ],
   "metadata": {}
  },
  {
   "cell_type": "markdown",
   "source": [
    "# Animation"
   ],
   "metadata": {}
  },
  {
   "cell_type": "code",
   "execution_count": 27,
   "source": [
    "positon_track = VectorKeyframeTrack(name='.position',\r\n",
    "    times=[0, 2, 5],\r\n",
    "    values=[10, 6, 10,\r\n",
    "            6.3, 3.78, 6.3,\r\n",
    "            -2.98, 0.84, 9.2,\r\n",
    "           ])\r\n",
    "rotation_track = QuaternionKeyframeTrack(name='.quaternion',\r\n",
    "    times=[0, 2, 5],\r\n",
    "    values=[-0.184, 0.375, 0.0762, 0.905,\r\n",
    "            -0.184, 0.375, 0.0762, 0.905,\r\n",
    "            -0.0430, -0.156, -0.00681, 0.987,\r\n",
    "           ])"
   ],
   "outputs": [],
   "metadata": {}
  },
  {
   "cell_type": "code",
   "execution_count": 28,
   "source": [
    "camera_clip = AnimationClip(tracks=[positon_track, rotation_track])\r\n",
    "camera_action = AnimationAction(AnimationMixer(camera), camera_clip, camera)"
   ],
   "outputs": [],
   "metadata": {}
  },
  {
   "cell_type": "code",
   "execution_count": 29,
   "source": [
    "camera_action"
   ],
   "outputs": [
    {
     "output_type": "display_data",
     "data": {
      "application/vnd.jupyter.widget-view+json": {
       "version_major": 2,
       "version_minor": 0,
       "model_id": "24051790cb284c8d8b6505d3da3bfe81"
      },
      "text/plain": [
       "AnimationAction(clip=AnimationClip(duration=5.0, tracks=(VectorKeyframeTrack(name='.position', times=array([0,…"
      ]
     },
     "metadata": {}
    }
   ],
   "metadata": {}
  },
  {
   "cell_type": "code",
   "execution_count": 30,
   "source": [
    "color_track = ColorKeyframeTrack(name='.material.color',\r\n",
    "    times=[0, 1], values=[1, 0, 0,  0, 0, 1])  # red to blue\r\n",
    "\r\n",
    "color_clip = AnimationClip(tracks=[color_track], duration=1.5)\r\n",
    "color_action = AnimationAction(AnimationMixer(objects[0]), color_clip, objects[0])"
   ],
   "outputs": [],
   "metadata": {}
  },
  {
   "cell_type": "code",
   "execution_count": 31,
   "source": [
    "color_action"
   ],
   "outputs": [
    {
     "output_type": "display_data",
     "data": {
      "application/vnd.jupyter.widget-view+json": {
       "version_major": 2,
       "version_minor": 0,
       "model_id": "be8fc0835ec64c4093e9d9602f07a07c"
      },
      "text/plain": [
       "AnimationAction(clip=AnimationClip(duration=1.5, tracks=(ColorKeyframeTrack(name='.material.color', times=arra…"
      ]
     },
     "metadata": {}
    }
   ],
   "metadata": {}
  },
  {
   "cell_type": "code",
   "execution_count": null,
   "source": [],
   "outputs": [],
   "metadata": {}
  },
  {
   "cell_type": "markdown",
   "source": [
    "## Tests"
   ],
   "metadata": {}
  },
  {
   "cell_type": "code",
   "execution_count": null,
   "source": [],
   "outputs": [],
   "metadata": {}
  }
 ],
 "metadata": {
  "kernelspec": {
   "name": "python3",
   "display_name": "Python 3.9.6 64-bit"
  },
  "language_info": {
   "codemirror_mode": {
    "name": "ipython",
    "version": 3
   },
   "file_extension": ".py",
   "mimetype": "text/x-python",
   "name": "python",
   "nbconvert_exporter": "python",
   "pygments_lexer": "ipython3",
   "version": "3.9.6"
  },
  "interpreter": {
   "hash": "ac59ebe37160ed0dfa835113d9b8498d9f09ceb179beaac4002f036b9467c963"
  }
 },
 "nbformat": 4,
 "nbformat_minor": 4
}
{
 "cells": [
  {
   "cell_type": "code",
   "execution_count": 1,
   "source": [
    "from pythreejs import *\r\n",
    "from IPython.display import display\r\n",
    "from math import pi"
   ],
   "outputs": [],
   "metadata": {}
  },
  {
   "cell_type": "code",
   "execution_count": 2,
   "source": [
    "# Reduce repo churn for examples with embedded state:\r\n",
    "from pythreejs._example_helper import use_example_model_ids\r\n",
    "use_example_model_ids()"
   ],
   "outputs": [],
   "metadata": {}
  },
  {
   "cell_type": "code",
   "execution_count": 3,
   "source": [
    "box = BoxGeometry(\r\n",
    "    width=5,\r\n",
    "    height=10,\r\n",
    "    depth=15,\r\n",
    "    widthSegments=5,\r\n",
    "    heightSegments=10,\r\n",
    "    depthSegments=15)"
   ],
   "outputs": [],
   "metadata": {}
  },
  {
   "cell_type": "code",
   "execution_count": 4,
   "source": [
    "sphere = Mesh(\r\n",
    "    SphereBufferGeometry(1, 32, 16),\r\n",
    "    MeshStandardMaterial(color='red')\r\n",
    ")"
   ],
   "outputs": [],
   "metadata": {}
  },
  {
   "cell_type": "code",
   "execution_count": 6,
   "source": [
    "box2 = Mesh(\r\n",
    "    BoxBufferGeometry(1, 1, 1),\r\n",
    "    MeshPhysicalMaterial(color='green'),\r\n",
    "    position=[2, 0, 4]\r\n",
    ")"
   ],
   "outputs": [],
   "metadata": {}
  },
  {
   "cell_type": "code",
   "execution_count": 8,
   "source": [
    "box2\r\n"
   ],
   "outputs": [
    {
     "output_type": "display_data",
     "data": {
      "application/vnd.jupyter.widget-view+json": {
       "version_major": 2,
       "version_minor": 0,
       "model_id": "pythree_example_model_014"
      },
      "text/plain": [
       "Preview(child=Mesh(geometry=BoxBufferGeometry(), material=MeshPhysicalMaterial(alphaMap=None, aoMap=None, bump…"
      ]
     },
     "metadata": {}
    }
   ],
   "metadata": {}
  },
  {
   "cell_type": "code",
   "execution_count": null,
   "source": [],
   "outputs": [],
   "metadata": {}
  }
 ],
 "metadata": {
  "orig_nbformat": 4,
  "language_info": {
   "name": "python",
   "version": "3.9.6",
   "mimetype": "text/x-python",
   "codemirror_mode": {
    "name": "ipython",
    "version": 3
   },
   "pygments_lexer": "ipython3",
   "nbconvert_exporter": "python",
   "file_extension": ".py"
  },
  "kernelspec": {
   "name": "python3",
   "display_name": "Python 3.9.6 64-bit"
  },
  "interpreter": {
   "hash": "ac59ebe37160ed0dfa835113d9b8498d9f09ceb179beaac4002f036b9467c963"
  }
 },
 "nbformat": 4,
 "nbformat_minor": 2
}
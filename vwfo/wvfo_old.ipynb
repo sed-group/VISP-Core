{
 "cells": [
  {
   "cell_type": "code",
   "execution_count": null,
   "metadata": {},
   "outputs": [],
   "source": [
    "from doepy import build\n",
    "import matplotlib as mpl\n",
    "import matplotlib.pyplot as plt\n",
    "import numpy as np"
   ]
  },
  {
   "cell_type": "code",
   "execution_count": null,
   "metadata": {},
   "outputs": [],
   "source": [
    "# Designs for platform 1\n",
    "designs_p1 = []\n",
    "for p_x1 in np.linspace(100, 400, 100):\n",
    "    for p_x2 in np.linspace(100, 400, 100):\n",
    "        for p_x3 in np.linspace(100, 400, 100):\n",
    "            pass"
   ]
  },
  {
   "cell_type": "code",
   "execution_count": null,
   "metadata": {},
   "outputs": [],
   "source": [
    "num_samples=100\n",
    "\n",
    "# Technology 1\n",
    "\n",
    "factors_t1 = {\n",
    "    't_x1':[5,15],\n",
    "    't_x2':[2,6],\n",
    "    't_x3':[1000,5000]\n",
    "    }\n",
    "\n",
    "lhs_t1 = build.space_filling_lhs(factors_t1, num_samples=num_samples)\n",
    "\n",
    "designs_t1 = []\n",
    "for index, row in lhs_t1.iterrows():\n",
    "    design_1 = design(1,1,row['t_x1'],row['t_x2'],row['t_x3'], 1, 1, 1)\n",
    "    designs_t1.append(design_1)\n",
    "\n",
    "x_t1 = [y.volume for y in designs_t1]\n",
    "y_t1 = [y.utility for y in designs_t1]\n",
    "\n",
    "# Technology 2\n",
    "\n",
    "factors_t2 = {\n",
    "    't_x1':[5,15],\n",
    "    't_x2':[2,6],\n",
    "    't_x3':[5000,30000]\n",
    "    }\n",
    "\n",
    "lhs_t2 = build.space_filling_lhs(factors_t2, num_samples=num_samples)\n",
    "\n",
    "designs_t2 = []\n",
    "for index, row in lhs_t2.iterrows():\n",
    "    design_2 = design(1,2,row['t_x1'],row['t_x2'],row['t_x3'], 1, 1, 1)\n",
    "    designs_t2.append(design_2)\n",
    "\n",
    "x_t2 = [y.volume for y in designs_t2]\n",
    "y_t2 = [y.utility for y in designs_t2]\n",
    "\n",
    "# Technology 3\n",
    "\n",
    "factors_t3 = {\n",
    "    't_x1':[10,20],\n",
    "    't_x2':[4,10],\n",
    "    't_x3':[1000,30000]\n",
    "    }\n",
    "\n",
    "lhs_t3 = build.space_filling_lhs(factors_t3, num_samples=num_samples)\n",
    "\n",
    "designs_t3 = []\n",
    "for index, row in lhs_t3.iterrows():\n",
    "    design_3 = design(1,3,row['t_x1'],row['t_x2'],row['t_x3'], 1, 1, 1)\n",
    "    designs_t3.append(design_3)\n",
    "\n",
    "x_t3 = [y.volume for y in designs_t3]\n",
    "y_t3 = [y.utility for y in designs_t3]\n",
    "\n",
    "# fig, ax = plt.subplots(figsize=(12, 9), layout='constrained')\n",
    "# ax.scatter(x_t1, y_t1, label='Technology 1', marker = 'x')\n",
    "# ax.scatter(x_t2, y_t2, label='Technology 2', marker = 'x')\n",
    "# ax.scatter(x_t3, y_t3, label='Technology 3', marker = 'x')\n",
    "# ax.set_xlabel('Volume')  # Add an x-label to the axes.\n",
    "# ax.set_ylabel('Utility')  # Add a y-label to the axes.\n",
    "# ax.set_title(\"Utility versus Volume of each design\")  # Add a title to the axes.\n",
    "# ax.legend();  # Add a legend."
   ]
  },
  {
   "cell_type": "code",
   "execution_count": null,
   "metadata": {},
   "outputs": [],
   "source": [
    "volume = 10\n",
    "\n",
    "x = np.cbrt(volume / (1 + 3 + 1))\n",
    "y = 3 * x\n",
    "z = 1 * x\n",
    "\n",
    "print(f\"Volume: {volume} \\n x = {x} \\n y = {y} \\n z = {z}\")"
   ]
  },
  {
   "cell_type": "code",
   "execution_count": null,
   "metadata": {},
   "outputs": [],
   "source": []
  }
 ],
 "metadata": {
  "language_info": {
   "name": "python"
  },
  "orig_nbformat": 4
 },
 "nbformat": 4,
 "nbformat_minor": 2
}

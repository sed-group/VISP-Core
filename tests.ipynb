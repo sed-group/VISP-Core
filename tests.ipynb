{
 "cells": [
  {
   "cell_type": "markdown",
   "source": [
    "# Imports"
   ],
   "metadata": {}
  },
  {
   "cell_type": "code",
   "execution_count": 1,
   "source": [
    "%matplotlib inline\r\n",
    "import copy\r\n",
    "import matplotlib.pyplot as plt\r\n",
    "import networkx as nx\r\n",
    "import random\r\n",
    "import seaborn as sns\r\n",
    "import numpy as np\r\n",
    "import pandas as pd"
   ],
   "outputs": [],
   "metadata": {}
  },
  {
   "cell_type": "markdown",
   "source": [
    "# Auxiliary functions"
   ],
   "metadata": {}
  },
  {
   "cell_type": "code",
   "execution_count": 2,
   "source": [
    "def random_DSM(n):\r\n",
    "    A = []\r\n",
    "    for i in range(n):\r\n",
    "        row = []\r\n",
    "        for j in range(n):\r\n",
    "            if j == i:\r\n",
    "                row.append(0)\r\n",
    "            else:\r\n",
    "                row.append(random.randint(0, 1))\r\n",
    "        A.append(row)\r\n",
    "    return A"
   ],
   "outputs": [],
   "metadata": {}
  },
  {
   "cell_type": "code",
   "execution_count": 65,
   "source": [
    "def ppm(A):\r\n",
    "    \"\"\"Pretty Print matrix\"\"\"\r\n",
    "    print('\\n'.join(['\\t'.join([str(\"{:.3f}\".format(cell)) for cell in row]) for row in A]))"
   ],
   "outputs": [],
   "metadata": {}
  },
  {
   "cell_type": "code",
   "execution_count": 4,
   "source": [
    "def random_prob_matrix(A):\r\n",
    "    P = copy.deepcopy(A)\r\n",
    "    for i, row in enumerate(P):\r\n",
    "        for j, element in enumerate(row):\r\n",
    "            if element != 0:\r\n",
    "                P[i][j] = random.random()\r\n",
    "    return P\r\n"
   ],
   "outputs": [],
   "metadata": {}
  },
  {
   "cell_type": "code",
   "execution_count": 5,
   "source": [
    "def plot_graph(A):\r\n",
    "    Anp = np.matrix(A)\r\n",
    "    g = nx.from_numpy_matrix(Anp, create_using=nx.DiGraph)\r\n",
    "\r\n",
    "    # layout\r\n",
    "    #pos = nx.spring_layout(G, iterations=50)\r\n",
    "    pos = nx.spring_layout(g)\r\n",
    "    labels = {}\r\n",
    "    for i in range(Anp[0].size):\r\n",
    "        labels[i] = str(i)\r\n",
    "    # rendering\r\n",
    "    plt.figure(figsize=(10,10))\r\n",
    "    nx.draw_networkx_nodes(g, pos)\r\n",
    "    nx.draw_networkx_edges(g, pos, node_size=1000, arrows=True)\r\n",
    "    nx.draw_networkx_labels(g, pos, labels)\r\n",
    "    plt.axis('off')"
   ],
   "outputs": [],
   "metadata": {}
  },
  {
   "cell_type": "code",
   "execution_count": 6,
   "source": [
    "def plot_heatmap(A):\r\n",
    "    color_palette = sns.color_palette(\"Blues\", as_cmap=True)\r\n",
    "    ax = sns.heatmap(A, linewidth=0.5, cmap=color_palette)\r\n",
    "    plt.yticks(rotation=0)\r\n",
    "    ax.xaxis.tick_top() # x axis on top\r\n",
    "    ax.xaxis.set_label_position('top')\r\n",
    "    ax.tick_params(length=0)\r\n",
    "    # set aspect of all axis\r\n",
    "    ax.set_aspect('equal','box')\r\n",
    "    plt.show()"
   ],
   "outputs": [],
   "metadata": {}
  },
  {
   "cell_type": "markdown",
   "source": [
    "# Data input"
   ],
   "metadata": {}
  },
  {
   "cell_type": "markdown",
   "source": [
    "## Random"
   ],
   "metadata": {}
  },
  {
   "cell_type": "code",
   "execution_count": 68,
   "source": [
    "n = 3\r\n",
    "\r\n",
    "# DSM\r\n",
    "A = random_DSM(n)\r\n",
    "print(\"DSM:\")\r\n",
    "ppm(A)\r\n",
    "plot_graph(A)\r\n",
    "\r\n",
    "# Direct likelihood matrix\r\n",
    "l = random_prob_matrix(A)\r\n",
    "print(\"Direct likelihood matrix l:\")\r\n",
    "ppm(l)\r\n",
    "# Direct impact matrix\r\n",
    "i = random_prob_matrix(A)\r\n",
    "print(\"Direct impact matrix i:\")\r\n",
    "ppm(i)\r\n",
    "# Direct risk matrix\r\n",
    "r = (np.array(l)*np.array(i)).tolist()\r\n",
    "print(\"Direct risk matrix r:\")\r\n",
    "ppm(r)\r\n",
    "\r\n",
    "#plot_heatmap(A)\r\n",
    "#plot_heatmap(l)\r\n",
    "#plot_heatmap(i)\r\n",
    "#plot_heatmap(r)"
   ],
   "outputs": [
    {
     "output_type": "stream",
     "name": "stdout",
     "text": [
      "DSM:\n",
      "0.000\t1.000\t0.000\n",
      "1.000\t0.000\t0.000\n",
      "0.000\t0.000\t0.000\n",
      "Direct likelihood matrix l:\n",
      "0.000\t0.140\t0.000\n",
      "0.596\t0.000\t0.000\n",
      "0.000\t0.000\t0.000\n",
      "Direct impact matrix i:\n",
      "0.000\t0.798\t0.000\n",
      "0.517\t0.000\t0.000\n",
      "0.000\t0.000\t0.000\n",
      "Direct risk matrix r:\n",
      "0.000\t0.112\t0.000\n",
      "0.308\t0.000\t0.000\n",
      "0.000\t0.000\t0.000\n"
     ]
    },
    {
     "output_type": "display_data",
     "data": {
      "image/png": "[encoded data removed]",
      "text/plain": [
       "<Figure size 720x720 with 1 Axes>"
      ]
     },
     "metadata": {}
    }
   ],
   "metadata": {}
  },
  {
   "cell_type": "markdown",
   "source": [
    "## From (Clarkson et al., 2004)"
   ],
   "metadata": {}
  },
  {
   "cell_type": "code",
   "execution_count": 37,
   "source": [
    "A = [[0,1,1,0,0,0],[1,0,0,1,1,1],[1,0,0,1,1,1],[1,1,1,0,0,1],[0,0,1,1,0,1],[1,1,1,1,1,0]]\r\n",
    "l = [[0,0.3,0.3,0,0,0],[0.9,0,0,0.6,0.3,0.6],[0.9,0,0,0.6,0.3,0.6],[0.3,0.6,0.9,0,0,0.9],[0,0,0.3,0.6,0,0.3],[0.3,0.9,0.6,0.9,0.6,0]]\r\n",
    "i = [[0,0.9,0.9,0,0,0],[0.9,0,0,0.6,0.3,0.3],[0.6,0,0,0.3,0.3,0.3],[0.3,0.3,0.6,0,0,0.3],[0,0,0.3,0.3,0,0.3],[0.3,0.6,0.6,0.9,0.6,0]]\r\n",
    "r = (np.array(l)*np.array(i)).tolist()\r\n",
    "ppm(r)"
   ],
   "outputs": [
    {
     "output_type": "stream",
     "name": "stdout",
     "text": [
      "0.0\t0.3\t0.3\t0.0\t0.0\t0.0\n",
      "0.8\t0.0\t0.0\t0.4\t0.1\t0.2\n",
      "0.5\t0.0\t0.0\t0.2\t0.1\t0.2\n",
      "0.1\t0.2\t0.5\t0.0\t0.0\t0.3\n",
      "0.0\t0.0\t0.1\t0.2\t0.0\t0.1\n",
      "0.1\t0.5\t0.4\t0.8\t0.4\t0.0\n"
     ]
    }
   ],
   "metadata": {}
  },
  {
   "cell_type": "code",
   "execution_count": 11,
   "source": [
    "for i, row in enumerate(A):\r\n",
    "    print(row)\r\n",
    "    for j, element in enumerate(row):\r\n",
    "        if element == 1:\r\n",
    "            print(f\"There is a link between {i} and {j}\")\r\n"
   ],
   "outputs": [
    {
     "output_type": "stream",
     "name": "stdout",
     "text": [
      "[0, 0, 1, 0]\n",
      "There is a link between 0 and 2\n",
      "[0, 0, 0, 1]\n",
      "There is a link between 1 and 3\n",
      "[1, 0, 0, 0]\n",
      "There is a link between 2 and 0\n",
      "[1, 1, 1, 0]\n",
      "There is a link between 3 and 0\n",
      "There is a link between 3 and 1\n",
      "There is a link between 3 and 2\n"
     ]
    }
   ],
   "metadata": {}
  },
  {
   "cell_type": "code",
   "execution_count": 35,
   "source": [
    "def combined_risk(A,L,I,b,a):\r\n",
    "    second = 1\r\n",
    "    Anp = np.matrix(A)\r\n",
    "    g = nx.from_numpy_matrix(Anp, create_using=nx.DiGraph)\r\n",
    "    for path in nx.all_simple_paths(g, b, a):\r\n",
    "        print(path)\r\n",
    "        path_likelihood = 1\r\n",
    "        path_risk = 1\r\n",
    "        for i, source in enumerate(path):\r\n",
    "            if source != a:\r\n",
    "                destination = path[i+1]\r\n",
    "                #print(f\"From source {source} to destination {destination}:\")\r\n",
    "                likelihood = L[source][destination]\r\n",
    "                impact = I[source][destination]\r\n",
    "                risk = likelihood * impact\r\n",
    "                path_likelihood = path_likelihood * likelihood\r\n",
    "                path_risk = path_risk * (risk)\r\n",
    "                #print(f\"  Likelihood: {likelihood}\")\r\n",
    "                #print(f\"  Impact    : {impact}\")\r\n",
    "                #print(f\"  Risk      : {risk}\")\r\n",
    "        print(f\"Path likelihood: {path_likelihood}\")\r\n",
    "        print(f\"Path risk: {path_risk}\")\r\n",
    "        second = second * path_likelihood\r\n",
    "\r\n",
    "    R = 1 - second\r\n",
    "    return R"
   ],
   "outputs": [],
   "metadata": {}
  },
  {
   "cell_type": "code",
   "execution_count": 38,
   "source": [
    "combined_risk(A,L,I,0,2)"
   ],
   "outputs": [
    {
     "output_type": "stream",
     "name": "stdout",
     "text": [
      "[0, 1, 3, 2]\n",
      "Path likelihood: 0.162\n",
      "Path risk: 0.05248800000000001\n",
      "[0, 1, 3, 5, 2]\n",
      "Path likelihood: 0.0972\n",
      "Path risk: 0.00944784\n",
      "[0, 1, 3, 5, 4, 2]\n",
      "Path likelihood: 0.02916\n",
      "Path risk: 0.0008503056000000001\n",
      "[0, 1, 4, 2]\n",
      "Path likelihood: 0.027\n",
      "Path risk: 0.002187\n",
      "[0, 1, 4, 3, 2]\n",
      "Path likelihood: 0.0486\n",
      "Path risk: 0.00236196\n",
      "[0, 1, 4, 3, 5, 2]\n",
      "Path likelihood: 0.02916\n",
      "Path risk: 0.00042515280000000004\n",
      "[0, 1, 4, 5, 2]\n",
      "Path likelihood: 0.0162\n",
      "Path risk: 0.00078732\n",
      "[0, 1, 4, 5, 3, 2]\n",
      "Path likelihood: 0.02187\n",
      "Path risk: 0.0009565938000000002\n",
      "[0, 1, 5, 2]\n",
      "Path likelihood: 0.108\n",
      "Path risk: 0.017496\n",
      "[0, 1, 5, 3, 2]\n",
      "Path likelihood: 0.1458\n",
      "Path risk: 0.021257640000000005\n",
      "[0, 1, 5, 4, 2]\n",
      "Path likelihood: 0.0324\n",
      "Path risk: 0.00157464\n",
      "[0, 1, 5, 4, 3, 2]\n",
      "Path likelihood: 0.05832\n",
      "Path risk: 0.0017006112000000002\n",
      "[0, 2]\n",
      "Path likelihood: 0.3\n",
      "Path risk: 0.27\n"
     ]
    },
    {
     "output_type": "execute_result",
     "data": {
      "text/plain": [
       "0.9999999999999999"
      ]
     },
     "metadata": {},
     "execution_count": 38
    }
   ],
   "metadata": {}
  },
  {
   "cell_type": "code",
   "execution_count": 70,
   "source": [
    "from matplotlib.patches import Rectangle\r\n",
    "\r\n",
    "#flat_list = [item for sublist in t for item in sublist]\r\n",
    "\r\n",
    "#x  = [0.0,1.0,2.0,0.0,1.0,2.0,0.0,1.0,2.0]\r\n",
    "#y  = [0.0,0.0,0.0,1.0,1.0,1.0,2.0,2.0,2.0]\r\n",
    "#z  = [0.1,0.2,0.3,0.4,0.5,0.6,0.7,0.8,0.9]\r\n",
    "#dx = [0.1,0.2,0.3,0.4,0.5,0.6,0.7,0.8,0.9]\r\n",
    "#dy = [0.9,0.8,0.7,0.6,0.5,0.4,0.3,0.2,0.1]\r\n",
    "\r\n",
    "x  = [0.0,1.0,2.0,0.0,1.0,2.0,0.0,1.0,2.0]\r\n",
    "y  = [0.0,0.0,0.0,1.0,1.0,1.0,2.0,2.0,2.0]\r\n",
    "dx = [item for sublist in l for item in sublist]\r\n",
    "dy = [item for sublist in i for item in sublist]\r\n",
    "z = [item for sublist in r for item in sublist]\r\n",
    "\r\n",
    "cmap = plt.cm.coolwarm\r\n",
    "fig = plt.figure()\r\n",
    "ax = fig.add_subplot(111, aspect='equal')\r\n",
    "\r\n",
    "for x, y, c, h, w in zip(x, y, z, dx, dy):\r\n",
    "    print(x, y, c, h, w)\r\n",
    "    ax.add_artist(Rectangle(xy=(x, y),\r\n",
    "                  color=cmap(c),\r\n",
    "                  width=w, height=h))\r\n",
    "\r\n",
    "plt.xlim([0, 3])\r\n",
    "plt.ylim([0, 3])\r\n",
    "plt.gca().invert_yaxis()\r\n",
    "plt.show()"
   ],
   "outputs": [
    {
     "output_type": "stream",
     "name": "stdout",
     "text": [
      "0.0 0.0 0.0 0 0\n",
      "1.0 0.0 0.11187635302396749 0.14014008987948356 0.7983179768200372\n",
      "2.0 0.0 0.0 0 0\n",
      "0.0 1.0 0.3077684263692795 0.595576554021222 0.5167571226423948\n",
      "1.0 1.0 0.0 0 0\n",
      "2.0 1.0 0.0 0 0\n",
      "0.0 2.0 0.0 0 0\n",
      "1.0 2.0 0.0 0 0\n",
      "2.0 2.0 0.0 0 0\n"
     ]
    },
    {
     "output_type": "display_data",
     "data": {
      "image/png": "[encoded data removed]",
      "text/plain": [
       "<Figure size 432x288 with 1 Axes>"
      ]
     },
     "metadata": {
      "needs_background": "light"
     }
    }
   ],
   "metadata": {}
  },
  {
   "cell_type": "markdown",
   "source": [
    "# Definitions\r\n",
    "\r\n",
    "$a$: destination of change\r\n",
    "\r\n",
    "$b$: source of change\r\n",
    "\r\n",
    "$u$: pen-ultimate sub-system i the chain from **a** to **b**\r\n",
    "\r\n",
    "$\\sigma_{u,a}$: Likelihood of change reaching sub-system **u** from **a**\r\n",
    "\r\n",
    "$l_{b,u}$: Direct likelihood of change  **u** from **a**\r\n",
    "\r\n",
    "Risk of change propagating from **u** to **b**:\r\n",
    "\r\n",
    "$\\rho_{b,u} = \\sigma_{u,a} l_{b,u} i_{b,u}$\r\n",
    "\r\n",
    "Combined risk of change propagating from **b** to **a**:\r\n",
    "\r\n",
    "$R_{b,a} = 1- \\prod{(1 - \\rho_{b,u})}$"
   ],
   "metadata": {}
  },
  {
   "cell_type": "markdown",
   "source": [],
   "metadata": {}
  }
 ],
 "metadata": {
  "orig_nbformat": 4,
  "language_info": {
   "name": "python",
   "version": "3.9.6",
   "mimetype": "text/x-python",
   "codemirror_mode": {
    "name": "ipython",
    "version": 3
   },
   "pygments_lexer": "ipython3",
   "nbconvert_exporter": "python",
   "file_extension": ".py"
  },
  "kernelspec": {
   "name": "python3",
   "display_name": "Python 3.9.6 64-bit"
  },
  "interpreter": {
   "hash": "ac59ebe37160ed0dfa835113d9b8498d9f09ceb179beaac4002f036b9467c963"
  }
 },
 "nbformat": 4,
 "nbformat_minor": 2
}